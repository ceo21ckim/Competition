{
 "metadata": {
  "language_info": {
   "codemirror_mode": {
    "name": "ipython",
    "version": 3
   },
   "file_extension": ".py",
   "mimetype": "text/x-python",
   "name": "python",
   "nbconvert_exporter": "python",
   "pygments_lexer": "ipython3",
   "version": "3.9.2"
  },
  "orig_nbformat": 4,
  "kernelspec": {
   "name": "python3",
   "display_name": "Python 3.9.2 64-bit ('geo': conda)"
  },
  "interpreter": {
   "hash": "9a957a1fea41707a244f264f295721eb09ec21d5be06b513cdb5f37b29d60cc5"
  }
 },
 "nbformat": 4,
 "nbformat_minor": 2,
 "cells": [
  {
   "cell_type": "code",
   "execution_count": 254,
   "metadata": {},
   "outputs": [],
   "source": [
    "import pandas as pd\n",
    "import numpy as np"
   ]
  },
  {
   "cell_type": "code",
   "execution_count": 255,
   "metadata": {},
   "outputs": [],
   "source": [
    "train = pd.read_csv('train.csv', encoding = 'utf-8')\n",
    "test = pd.read_csv('test.csv', encoding = 'utf-8')\n",
    "sub = pd.read_csv('sample_submission.csv', encoding = 'utf-8')"
   ]
  },
  {
   "cell_type": "code",
   "execution_count": 256,
   "metadata": {},
   "outputs": [
    {
     "output_type": "execute_result",
     "data": {
      "text/plain": [
       "단지코드                              0\n",
       "총세대수                              0\n",
       "임대건물구분                            0\n",
       "지역                                0\n",
       "공급유형                              0\n",
       "전용면적                              0\n",
       "전용면적별세대수                          0\n",
       "공가수                               0\n",
       "자격유형                              2\n",
       "임대보증금                           180\n",
       "임대료                             180\n",
       "도보 10분거리 내 지하철역 수(환승노선 수 반영)     42\n",
       "도보 10분거리 내 버스정류장 수                0\n",
       "단지내주차면수                           0\n",
       "dtype: int64"
      ]
     },
     "metadata": {},
     "execution_count": 256
    }
   ],
   "source": [
    "test.isnull().sum() "
   ]
  },
  {
   "source": [
    "- null 값 처리"
   ],
   "cell_type": "markdown",
   "metadata": {}
  },
  {
   "cell_type": "code",
   "execution_count": 257,
   "metadata": {},
   "outputs": [],
   "source": [
    "target_cols = ['도보 10분거리 내 지하철역 수(환승노선 수 반영)','도보 10분거리 내 버스정류장 수']\n",
    "train[target_cols] = train[target_cols].fillna(0)\n",
    "test[target_cols] = test[target_cols].fillna(0)"
   ]
  },
  {
   "cell_type": "code",
   "execution_count": null,
   "metadata": {},
   "outputs": [],
   "source": []
  },
  {
   "cell_type": "code",
   "execution_count": 258,
   "metadata": {},
   "outputs": [],
   "source": [
    "train['임대료'] = train['임대료'].fillna('-').replace('-','0').astype('int')\n",
    "train['임대보증금'] = train['임대보증금'].fillna('-').replace('-','0').astype('int')\n",
    "\n",
    "test['임대료'] = test['임대료'].fillna('-').replace('-','0').astype('int')\n",
    "test['임대보증금'] = test['임대보증금'].fillna('-').replace('-','0').astype('int')\n"
   ]
  },
  {
   "cell_type": "code",
   "execution_count": 259,
   "metadata": {},
   "outputs": [
    {
     "output_type": "stream",
     "name": "stderr",
     "text": [
      "<ipython-input-259-3a8714543ddf>:1: SettingWithCopyWarning: \nA value is trying to be set on a copy of a slice from a DataFrame\n\nSee the caveats in the documentation: https://pandas.pydata.org/pandas-docs/stable/user_guide/indexing.html#returning-a-view-versus-a-copy\n  train['임대료'][train['임대료'] == 0] = np.nan\n<ipython-input-259-3a8714543ddf>:6: SettingWithCopyWarning: \nA value is trying to be set on a copy of a slice from a DataFrame\n\nSee the caveats in the documentation: https://pandas.pydata.org/pandas-docs/stable/user_guide/indexing.html#returning-a-view-versus-a-copy\n  train['임대보증금'][train['임대보증금'] == 0] = np.nan\n<ipython-input-259-3a8714543ddf>:11: SettingWithCopyWarning: \nA value is trying to be set on a copy of a slice from a DataFrame\n\nSee the caveats in the documentation: https://pandas.pydata.org/pandas-docs/stable/user_guide/indexing.html#returning-a-view-versus-a-copy\n  test['임대료'][test['임대료'] == 0] = np.nan\n<ipython-input-259-3a8714543ddf>:16: SettingWithCopyWarning: \nA value is trying to be set on a copy of a slice from a DataFrame\n\nSee the caveats in the documentation: https://pandas.pydata.org/pandas-docs/stable/user_guide/indexing.html#returning-a-view-versus-a-copy\n  test['임대보증금'][test['임대보증금'] == 0] = np.nan\n"
     ]
    }
   ],
   "source": [
    "train['임대료'][train['임대료'] == 0] = np.nan\n",
    "mean1 = np.nanmean(train['임대료']).astype('int')\n",
    "train['임대료'] = train['임대료'].fillna(mean1)\n",
    "\n",
    "\n",
    "train['임대보증금'][train['임대보증금'] == 0] = np.nan\n",
    "mean1 = np.nanmean(train['임대보증금']).astype('int')\n",
    "train['임대보증금'] = train['임대보증금'].fillna(mean1)\n",
    "\n",
    "\n",
    "test['임대료'][test['임대료'] == 0] = np.nan\n",
    "mean1 = np.nanmean(test['임대료']).astype('int')\n",
    "test['임대료'] = test['임대료'].fillna(mean1)\n",
    "\n",
    "\n",
    "test['임대보증금'][test['임대보증금'] == 0] = np.nan\n",
    "mean2 = np.nanmean(test['임대보증금']).astype('int')\n",
    "test['임대보증금'] = test['임대보증금'].fillna(mean2)"
   ]
  },
  {
   "cell_type": "code",
   "execution_count": 260,
   "metadata": {},
   "outputs": [
    {
     "output_type": "stream",
     "name": "stdout",
     "text": [
      "<class 'pandas.core.frame.DataFrame'>\nRangeIndex: 1022 entries, 0 to 1021\nData columns (total 14 columns):\n #   Column                        Non-Null Count  Dtype  \n---  ------                        --------------  -----  \n 0   단지코드                          1022 non-null   object \n 1   총세대수                          1022 non-null   int64  \n 2   임대건물구분                        1022 non-null   object \n 3   지역                            1022 non-null   object \n 4   공급유형                          1022 non-null   object \n 5   전용면적                          1022 non-null   float64\n 6   전용면적별세대수                      1022 non-null   int64  \n 7   공가수                           1022 non-null   float64\n 8   자격유형                          1020 non-null   object \n 9   임대보증금                         1022 non-null   float64\n 10  임대료                           1022 non-null   float64\n 11  도보 10분거리 내 지하철역 수(환승노선 수 반영)  1022 non-null   float64\n 12  도보 10분거리 내 버스정류장 수            1022 non-null   float64\n 13  단지내주차면수                       1022 non-null   float64\ndtypes: float64(7), int64(2), object(5)\nmemory usage: 111.9+ KB\n"
     ]
    }
   ],
   "source": [
    "test.info()"
   ]
  },
  {
   "cell_type": "code",
   "execution_count": 261,
   "metadata": {},
   "outputs": [],
   "source": [
    "train['임대보증금'] = np.log1p(train['임대보증금'])\n",
    "train['임대료'] = np.log1p(train['임대료'])\n",
    "\n",
    "test['임대보증금'] = np.log1p(test['임대보증금'])\n",
    "test['임대료'] = np.log1p(test['임대료'])"
   ]
  },
  {
   "cell_type": "code",
   "execution_count": 262,
   "metadata": {},
   "outputs": [],
   "source": [
    "target_cols = ['공공임대(10년)','공공임대(50년)','공공임대(분납)','공공임대(5년)']\n",
    "train['공급유형'] = train['공급유형'].replace(target_cols,'공공임대')\n",
    "\n",
    "test['공급유형'] = test['공급유형'].replace(target_cols,'공공임대')"
   ]
  },
  {
   "source": [
    "- get_ dummy \n",
    "- one hot encoding "
   ],
   "cell_type": "markdown",
   "metadata": {}
  },
  {
   "cell_type": "code",
   "execution_count": 263,
   "metadata": {},
   "outputs": [],
   "source": [
    "zero = pd.DataFrame(np.zeros(len(df_test)),columns = ['서울특별시'])\n",
    "train = pd.concat(\n",
    "    [train,pd.get_dummies(train['지역']),\n",
    "    pd.get_dummies(train['임대건물구분'])],\n",
    "    axis = 1\n",
    "    )\n",
    "\n",
    "\n",
    "test = pd.concat(\n",
    "    [test,pd.get_dummies(test['지역']),\n",
    "    zero ,\n",
    "    pd.get_dummies(test['임대건물구분'])],\n",
    "    axis = 1)\n",
    "drop_cols = ['지역','임대건물구분']\n",
    "\n",
    "\n",
    "for col in drop_cols:\n",
    "    del train[col]\n",
    "    del test[col]"
   ]
  },
  {
   "cell_type": "code",
   "execution_count": 264,
   "metadata": {},
   "outputs": [],
   "source": [
    "from sklearn.preprocessing import LabelEncoder"
   ]
  },
  {
   "cell_type": "code",
   "execution_count": 266,
   "metadata": {},
   "outputs": [
    {
     "output_type": "stream",
     "name": "stdout",
     "text": [
      "<class 'pandas.core.frame.DataFrame'>\nRangeIndex: 2952 entries, 0 to 2951\nData columns (total 31 columns):\n #   Column                        Non-Null Count  Dtype  \n---  ------                        --------------  -----  \n 0   단지코드                          2952 non-null   object \n 1   총세대수                          2952 non-null   int64  \n 2   공급유형                          2952 non-null   object \n 3   전용면적                          2952 non-null   float64\n 4   전용면적별세대수                      2952 non-null   int64  \n 5   공가수                           2952 non-null   float64\n 6   자격유형                          2952 non-null   object \n 7   임대보증금                         2952 non-null   float64\n 8   임대료                           2952 non-null   float64\n 9   도보 10분거리 내 지하철역 수(환승노선 수 반영)  2952 non-null   float64\n 10  도보 10분거리 내 버스정류장 수            2952 non-null   float64\n 11  단지내주차면수                       2952 non-null   float64\n 12  등록차량수                         2952 non-null   float64\n 13  강원도                           2952 non-null   uint8  \n 14  경기도                           2952 non-null   uint8  \n 15  경상남도                          2952 non-null   uint8  \n 16  경상북도                          2952 non-null   uint8  \n 17  광주광역시                         2952 non-null   uint8  \n 18  대구광역시                         2952 non-null   uint8  \n 19  대전광역시                         2952 non-null   uint8  \n 20  부산광역시                         2952 non-null   uint8  \n 21  서울특별시                         2952 non-null   uint8  \n 22  세종특별자치시                       2952 non-null   uint8  \n 23  울산광역시                         2952 non-null   uint8  \n 24  전라남도                          2952 non-null   uint8  \n 25  전라북도                          2952 non-null   uint8  \n 26  제주특별자치도                       2952 non-null   uint8  \n 27  충청남도                          2952 non-null   uint8  \n 28  충청북도                          2952 non-null   uint8  \n 29  상가                            2952 non-null   uint8  \n 30  아파트                           2952 non-null   uint8  \ndtypes: float64(8), int64(2), object(3), uint8(18)\nmemory usage: 351.8+ KB\n"
     ]
    }
   ],
   "source": [
    "train.info()"
   ]
  },
  {
   "cell_type": "code",
   "execution_count": 268,
   "metadata": {},
   "outputs": [],
   "source": [
    "le = LabelEncoder()\n",
    "cat_cols = ['공급유형','자격유형']\n",
    "for col in cat_cols:\n",
    "    train[col] = le.fit_transform(train[col])\n",
    "    test[col] = le.fit_transform(test[col])"
   ]
  },
  {
   "cell_type": "code",
   "execution_count": 269,
   "metadata": {},
   "outputs": [
    {
     "output_type": "execute_result",
     "data": {
      "text/plain": [
       "    단지코드  총세대수  공급유형   전용면적  전용면적별세대수   공가수  자격유형      임대보증금        임대료  \\\n",
       "0  C1072   754     1  39.79       116  14.0     5  16.943586  12.153942   \n",
       "1  C1072   754     1  46.81        30  14.0     0  17.400362  12.428940   \n",
       "2  C1072   754     1  46.90       112  14.0     5  17.400362  12.428940   \n",
       "3  C1072   754     1  46.90       120  14.0     5  17.400362  12.428940   \n",
       "4  C1072   754     1  51.46        60  14.0     5  17.588203  12.600750   \n",
       "\n",
       "   도보 10분거리 내 지하철역 수(환승노선 수 반영)  ...  세종특별자치시  울산광역시  전라남도  전라북도  제주특별자치도  \\\n",
       "0                           0.0  ...        0      0     0     0        0   \n",
       "1                           0.0  ...        0      0     0     0        0   \n",
       "2                           0.0  ...        0      0     0     0        0   \n",
       "3                           0.0  ...        0      0     0     0        0   \n",
       "4                           0.0  ...        0      0     0     0        0   \n",
       "\n",
       "   충청남도  충청북도  서울특별시  상가  아파트  \n",
       "0     0     0    0.0   0    1  \n",
       "1     0     0    0.0   0    1  \n",
       "2     0     0    0.0   0    1  \n",
       "3     0     0    0.0   0    1  \n",
       "4     0     0    0.0   0    1  \n",
       "\n",
       "[5 rows x 30 columns]"
      ],
      "text/html": "<div>\n<style scoped>\n    .dataframe tbody tr th:only-of-type {\n        vertical-align: middle;\n    }\n\n    .dataframe tbody tr th {\n        vertical-align: top;\n    }\n\n    .dataframe thead th {\n        text-align: right;\n    }\n</style>\n<table border=\"1\" class=\"dataframe\">\n  <thead>\n    <tr style=\"text-align: right;\">\n      <th></th>\n      <th>단지코드</th>\n      <th>총세대수</th>\n      <th>공급유형</th>\n      <th>전용면적</th>\n      <th>전용면적별세대수</th>\n      <th>공가수</th>\n      <th>자격유형</th>\n      <th>임대보증금</th>\n      <th>임대료</th>\n      <th>도보 10분거리 내 지하철역 수(환승노선 수 반영)</th>\n      <th>...</th>\n      <th>세종특별자치시</th>\n      <th>울산광역시</th>\n      <th>전라남도</th>\n      <th>전라북도</th>\n      <th>제주특별자치도</th>\n      <th>충청남도</th>\n      <th>충청북도</th>\n      <th>서울특별시</th>\n      <th>상가</th>\n      <th>아파트</th>\n    </tr>\n  </thead>\n  <tbody>\n    <tr>\n      <th>0</th>\n      <td>C1072</td>\n      <td>754</td>\n      <td>1</td>\n      <td>39.79</td>\n      <td>116</td>\n      <td>14.0</td>\n      <td>5</td>\n      <td>16.943586</td>\n      <td>12.153942</td>\n      <td>0.0</td>\n      <td>...</td>\n      <td>0</td>\n      <td>0</td>\n      <td>0</td>\n      <td>0</td>\n      <td>0</td>\n      <td>0</td>\n      <td>0</td>\n      <td>0.0</td>\n      <td>0</td>\n      <td>1</td>\n    </tr>\n    <tr>\n      <th>1</th>\n      <td>C1072</td>\n      <td>754</td>\n      <td>1</td>\n      <td>46.81</td>\n      <td>30</td>\n      <td>14.0</td>\n      <td>0</td>\n      <td>17.400362</td>\n      <td>12.428940</td>\n      <td>0.0</td>\n      <td>...</td>\n      <td>0</td>\n      <td>0</td>\n      <td>0</td>\n      <td>0</td>\n      <td>0</td>\n      <td>0</td>\n      <td>0</td>\n      <td>0.0</td>\n      <td>0</td>\n      <td>1</td>\n    </tr>\n    <tr>\n      <th>2</th>\n      <td>C1072</td>\n      <td>754</td>\n      <td>1</td>\n      <td>46.90</td>\n      <td>112</td>\n      <td>14.0</td>\n      <td>5</td>\n      <td>17.400362</td>\n      <td>12.428940</td>\n      <td>0.0</td>\n      <td>...</td>\n      <td>0</td>\n      <td>0</td>\n      <td>0</td>\n      <td>0</td>\n      <td>0</td>\n      <td>0</td>\n      <td>0</td>\n      <td>0.0</td>\n      <td>0</td>\n      <td>1</td>\n    </tr>\n    <tr>\n      <th>3</th>\n      <td>C1072</td>\n      <td>754</td>\n      <td>1</td>\n      <td>46.90</td>\n      <td>120</td>\n      <td>14.0</td>\n      <td>5</td>\n      <td>17.400362</td>\n      <td>12.428940</td>\n      <td>0.0</td>\n      <td>...</td>\n      <td>0</td>\n      <td>0</td>\n      <td>0</td>\n      <td>0</td>\n      <td>0</td>\n      <td>0</td>\n      <td>0</td>\n      <td>0.0</td>\n      <td>0</td>\n      <td>1</td>\n    </tr>\n    <tr>\n      <th>4</th>\n      <td>C1072</td>\n      <td>754</td>\n      <td>1</td>\n      <td>51.46</td>\n      <td>60</td>\n      <td>14.0</td>\n      <td>5</td>\n      <td>17.588203</td>\n      <td>12.600750</td>\n      <td>0.0</td>\n      <td>...</td>\n      <td>0</td>\n      <td>0</td>\n      <td>0</td>\n      <td>0</td>\n      <td>0</td>\n      <td>0</td>\n      <td>0</td>\n      <td>0.0</td>\n      <td>0</td>\n      <td>1</td>\n    </tr>\n  </tbody>\n</table>\n<p>5 rows × 30 columns</p>\n</div>"
     },
     "metadata": {},
     "execution_count": 269
    }
   ],
   "source": [
    "test.head()"
   ]
  },
  {
   "cell_type": "code",
   "execution_count": 270,
   "metadata": {},
   "outputs": [],
   "source": [
    "df_train = train.groupby('단지코드').mean()\n",
    "df_test = test.groupby('단지코드').mean()"
   ]
  },
  {
   "cell_type": "code",
   "execution_count": 271,
   "metadata": {},
   "outputs": [
    {
     "output_type": "execute_result",
     "data": {
      "text/plain": [
       "((423, 30), (150, 29))"
      ]
     },
     "metadata": {},
     "execution_count": 271
    }
   ],
   "source": [
    "df_train.shape, df_test.shape"
   ]
  },
  {
   "cell_type": "code",
   "execution_count": 279,
   "metadata": {},
   "outputs": [
    {
     "output_type": "execute_result",
     "data": {
      "text/plain": [
       "((423, 29), (423,), (150, 29))"
      ]
     },
     "metadata": {},
     "execution_count": 279
    }
   ],
   "source": [
    "feature_cols = df_train.columns.difference(['등록차량수'])\n",
    "x_train = df_train[feature_cols]\n",
    "y_train = df_train['등록차량수']\n",
    "x_test = df_test\n",
    "x_train.shape, y_train.shape, x_test.shape"
   ]
  },
  {
   "cell_type": "code",
   "execution_count": 273,
   "metadata": {},
   "outputs": [],
   "source": [
    "from sklearn.ensemble import RandomForestRegressor, GradientBoostingRegressor, AdaBoostRegressor\n",
    "from xgboost import XGBRegressor\n",
    "from lightgbm import LGBMRegressor"
   ]
  },
  {
   "cell_type": "code",
   "execution_count": 283,
   "metadata": {},
   "outputs": [],
   "source": [
    "x_test['서울특별시'] = x_test['서울특별시'].fillna(0)"
   ]
  },
  {
   "cell_type": "code",
   "execution_count": 284,
   "metadata": {},
   "outputs": [
    {
     "output_type": "execute_result",
     "data": {
      "text/plain": [
       "array([44.34, 45.32, 38.08, 39.2 , 41.05, 47.05, 37.87, 38.77, 44.29,\n",
       "       44.72, 41.46, 37.94, 38.08, 38.25, 38.73, 38.51, 44.29, 44.72,\n",
       "       42.9 , 44.54, 39.2 , 38.51, 37.32, 38.41, 44.34, 41.22, 38.79,\n",
       "       39.19, 47.05, 44.34, 47.43, 43.48, 43.96, 39.2 , 38.75, 38.36,\n",
       "       44.29, 41.45, 38.38, 44.34, 44.72, 44.72, 43.94, 38.73, 44.72,\n",
       "       39.2 , 38.51, 38.13, 38.61, 41.04, 42.11, 42.82, 43.95, 44.29,\n",
       "       38.51, 47.43, 40.65, 37.94, 37.94, 34.98, 44.72, 38.08, 39.16,\n",
       "       37.72, 44.69, 44.29, 42.82, 41.05, 44.69, 38.51, 44.72, 44.29,\n",
       "       37.72, 37.51, 43.94, 43.96, 38.37, 42.82, 38.47, 47.43, 47.43,\n",
       "       44.29, 44.29, 37.32, 41.45, 37.94, 37.89, 38.19, 47.43, 44.69,\n",
       "       44.29, 44.72, 35.58, 39.17, 44.34, 39.16, 44.72, 41.22, 44.72,\n",
       "       43.96, 38.08, 39.4 , 44.72, 38.43, 39.58, 39.4 , 39.11, 42.44,\n",
       "       39.2 , 44.72, 44.72, 37.72, 44.29, 44.34, 38.08, 44.34, 44.72,\n",
       "       44.5 , 38.36, 39.16, 36.58, 44.34, 38.51, 40.23, 38.08, 45.41,\n",
       "       44.72, 37.87, 37.94, 42.07, 37.87, 38.72, 44.34, 44.72, 44.93,\n",
       "       37.72, 37.87, 38.44, 44.34, 44.72, 44.72, 37.26, 37.23, 44.29,\n",
       "       43.96, 44.29, 38.79, 45.32, 38.64, 44.5 ])"
      ]
     },
     "metadata": {},
     "execution_count": 284
    }
   ],
   "source": [
    "rf = RandomForestRegressor()\n",
    "rf.fit(x_train, y_train)\n",
    "y_pred = rf.predict(x_test)\n",
    "y_pred"
   ]
  },
  {
   "cell_type": "code",
   "execution_count": null,
   "metadata": {},
   "outputs": [],
   "source": []
  }
 ]
}