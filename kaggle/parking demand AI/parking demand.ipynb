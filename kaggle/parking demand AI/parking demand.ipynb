{
 "metadata": {
  "language_info": {
   "codemirror_mode": {
    "name": "ipython",
    "version": 3
   },
   "file_extension": ".py",
   "mimetype": "text/x-python",
   "name": "python",
   "nbconvert_exporter": "python",
   "pygments_lexer": "ipython3",
   "version": "3.9.2"
  },
  "orig_nbformat": 4,
  "kernelspec": {
   "name": "python3",
   "display_name": "Python 3.9.2 64-bit ('geo': conda)"
  },
  "interpreter": {
   "hash": "9a957a1fea41707a244f264f295721eb09ec21d5be06b513cdb5f37b29d60cc5"
  }
 },
 "nbformat": 4,
 "nbformat_minor": 2,
 "cells": [
  {
   "cell_type": "code",
   "execution_count": 7,
   "metadata": {},
   "outputs": [],
   "source": [
    "import pandas as pd\n",
    "import numpy as np"
   ]
  },
  {
   "source": [
    "- 데이터 셋 호출."
   ],
   "cell_type": "markdown",
   "metadata": {}
  },
  {
   "cell_type": "code",
   "execution_count": 8,
   "metadata": {},
   "outputs": [],
   "source": [
    "train = pd.read_csv('train.csv', encoding = 'utf-8')\n",
    "test = pd.read_csv('test.csv',encoding = 'utf-8')\n",
    "sub = pd.read_csv('sample_submission.csv', encoding = 'utf-8')\n",
    "age = pd.read_csv('age_gender_info.csv', encoding = 'utf-8')"
   ]
  },
  {
   "cell_type": "code",
   "execution_count": 9,
   "metadata": {},
   "outputs": [
    {
     "output_type": "execute_result",
     "data": {
      "text/plain": [
       "Index(['단지코드', '총세대수', '임대건물구분', '지역', '공급유형', '전용면적', '전용면적별세대수', '공가수',\n",
       "       '자격유형', '임대보증금', '임대료', '도보 10분거리 내 지하철역 수(환승노선 수 반영)',\n",
       "       '도보 10분거리 내 버스정류장 수', '단지내주차면수', '등록차량수'],\n",
       "      dtype='object')"
      ]
     },
     "metadata": {},
     "execution_count": 9
    }
   ],
   "source": [
    "train.columns"
   ]
  },
  {
   "source": [
    "- target\n",
    "    - 등록차량수\n",
    "\n",
    "- feature \n",
    "    - category\n",
    "        - 단지코드\n",
    "        - 임대건물구분\n",
    "        - 지역\n",
    "        - 공급유형\n",
    "        - 자격유형\n",
    "        \n",
    "    - numeric\n",
    "        - 총세대수\n",
    "        - 전용면적\n",
    "        - 전용면적별세대수\n",
    "        - 공가수\n",
    "        - 임대보증금\n",
    "        - 임대료\n",
    "        - 도보 10분거리 내 지하철역 수(환승노선 수 반영)\n",
    "        - 도보 10분거리 내 버스정류장 수\n",
    "        - 단지내주차면수"
   ],
   "cell_type": "markdown",
   "metadata": {}
  },
  {
   "cell_type": "code",
   "execution_count": 10,
   "metadata": {},
   "outputs": [],
   "source": [
    "df_train = train.copy()\n",
    "df_test = test.copy()"
   ]
  },
  {
   "cell_type": "code",
   "execution_count": 11,
   "metadata": {},
   "outputs": [
    {
     "output_type": "stream",
     "name": "stdout",
     "text": [
      "<class 'pandas.core.frame.DataFrame'>\nRangeIndex: 2952 entries, 0 to 2951\nData columns (total 15 columns):\n #   Column                        Non-Null Count  Dtype  \n---  ------                        --------------  -----  \n 0   단지코드                          2952 non-null   object \n 1   총세대수                          2952 non-null   int64  \n 2   임대건물구분                        2952 non-null   object \n 3   지역                            2952 non-null   object \n 4   공급유형                          2952 non-null   object \n 5   전용면적                          2952 non-null   float64\n 6   전용면적별세대수                      2952 non-null   int64  \n 7   공가수                           2952 non-null   float64\n 8   자격유형                          2952 non-null   object \n 9   임대보증금                         2383 non-null   object \n 10  임대료                           2383 non-null   object \n 11  도보 10분거리 내 지하철역 수(환승노선 수 반영)  2741 non-null   float64\n 12  도보 10분거리 내 버스정류장 수            2948 non-null   float64\n 13  단지내주차면수                       2952 non-null   float64\n 14  등록차량수                         2952 non-null   float64\ndtypes: float64(6), int64(2), object(7)\nmemory usage: 346.1+ KB\n"
     ]
    }
   ],
   "source": [
    "df_train.info()"
   ]
  },
  {
   "cell_type": "code",
   "execution_count": 12,
   "metadata": {},
   "outputs": [
    {
     "output_type": "stream",
     "name": "stdout",
     "text": [
      "<class 'pandas.core.frame.DataFrame'>\nRangeIndex: 1022 entries, 0 to 1021\nData columns (total 14 columns):\n #   Column                        Non-Null Count  Dtype  \n---  ------                        --------------  -----  \n 0   단지코드                          1022 non-null   object \n 1   총세대수                          1022 non-null   int64  \n 2   임대건물구분                        1022 non-null   object \n 3   지역                            1022 non-null   object \n 4   공급유형                          1022 non-null   object \n 5   전용면적                          1022 non-null   float64\n 6   전용면적별세대수                      1022 non-null   int64  \n 7   공가수                           1022 non-null   float64\n 8   자격유형                          1020 non-null   object \n 9   임대보증금                         842 non-null    object \n 10  임대료                           842 non-null    object \n 11  도보 10분거리 내 지하철역 수(환승노선 수 반영)  980 non-null    float64\n 12  도보 10분거리 내 버스정류장 수            1022 non-null   float64\n 13  단지내주차면수                       1022 non-null   float64\ndtypes: float64(5), int64(2), object(7)\nmemory usage: 111.9+ KB\n"
     ]
    }
   ],
   "source": [
    "df_test.info()"
   ]
  },
  {
   "source": [
    "- null 값 처리\n",
    "- type 변경\n",
    "\n",
    "- 임대료, 임대보증금에는 0값대신 평균값 대입"
   ],
   "cell_type": "markdown",
   "metadata": {}
  },
  {
   "cell_type": "code",
   "execution_count": 13,
   "metadata": {},
   "outputs": [],
   "source": [
    "cols = ['도보 10분거리 내 지하철역 수(환승노선 수 반영)','도보 10분거리 내 버스정류장 수','임대료','임대보증금']\n",
    "df_train[cols] = df_train[cols].fillna(0)\n",
    "df_test[cols] = df_test[cols].fillna(0)\n",
    "\n",
    "cols = ['임대료','임대보증금']\n",
    "for col in cols:\n",
    "    df_train[col] = df_train[col].replace('-',0).astype('int64')\n",
    "    df_train[col] = df_train[col].replace(0,np.round(df_train[col].mean(),0))\n",
    "    df_test[col] = df_test[col].replace('-',0).astype('int64')\n",
    "    df_test[col] = df_test[col].replace(0,np.round(df_test[col].mean(),0))"
   ]
  },
  {
   "source": [
    "- 파생 변수 생성\n",
    "    - 도보 10분거리 내 정류장(역) 수 : 지하철역 수 + 버스정류장 수\n",
    "\n",
    "- 변수 제거 \n",
    "    - delete \n",
    "        - 공급유형\n",
    "        - 신분\n",
    "        - 도보 10분거리 내 지하철역 수(환승노선 수 반영)\n",
    "        - 도보 10분거리 내 버스정류장 수\n"
   ],
   "cell_type": "markdown",
   "metadata": {}
  },
  {
   "cell_type": "code",
   "execution_count": 14,
   "metadata": {},
   "outputs": [],
   "source": [
    "cols = ['도보 10분거리 내 지하철역 수(환승노선 수 반영)','도보 10분거리 내 버스정류장 수']\n",
    "df_train['도보 10분거리 내 정류장(역) 수'] = df_train.loc[:,cols].sum(axis = 1)\n",
    "df_test['도보 10분거리 내 정류장(역) 수'] = df_test.loc[:,cols].sum(axis = 1)\n",
    "\n",
    "\n",
    "df_train['도보 10분거리 내 정류장(역) 수'] = df_train.loc[:,cols].sum(axis = 1)\n",
    "df_test['도보 10분거리 내 정류장(역) 수'] = df_test.loc[:,cols].sum(axis = 1)\n",
    "\n",
    "cols.extend(['자격유형','공급유형'])\n",
    "for col in cols:\n",
    "    del df_train[col]\n",
    "    del df_test[col]"
   ]
  },
  {
   "cell_type": "code",
   "execution_count": 15,
   "metadata": {},
   "outputs": [
    {
     "output_type": "execute_result",
     "data": {
      "text/plain": [
       "((2952, 12), (1022, 11))"
      ]
     },
     "metadata": {},
     "execution_count": 15
    }
   ],
   "source": [
    "df_train.shape, df_test.shape"
   ]
  },
  {
   "source": [
    "- dictinary 에 train set의 label input\n",
    "    - 서울특별시가 test셋에는 없다."
   ],
   "cell_type": "markdown",
   "metadata": {}
  },
  {
   "cell_type": "code",
   "execution_count": 16,
   "metadata": {},
   "outputs": [],
   "source": [
    "# length = np.array(range(0,16))\n",
    "# label = dict(zip(length,lr.classes_))\n",
    "# label"
   ]
  },
  {
   "cell_type": "code",
   "execution_count": 17,
   "metadata": {},
   "outputs": [],
   "source": [
    "zero = pd.DataFrame(np.zeros(len(df_test)),columns = ['서울특별시'])"
   ]
  },
  {
   "cell_type": "code",
   "execution_count": 18,
   "metadata": {},
   "outputs": [],
   "source": [
    "zero = pd.DataFrame(np.zeros(len(df_test)),columns = ['서울특별시'])\n",
    "df_train = pd.concat([df_train,pd.get_dummies(df_train['지역']),pd.get_dummies(df_train['임대건물구분'])], axis = 1)\n",
    "df_test = pd.concat([df_test,pd.get_dummies(df_test['지역']),zero ,pd.get_dummies(df_test['임대건물구분'])], axis = 1)\n",
    "drop_cols = ['지역','임대건물구분']\n",
    "\n",
    "\n",
    "for col in drop_cols:\n",
    "    del df_train[col]\n",
    "    del df_test[col]"
   ]
  },
  {
   "cell_type": "code",
   "execution_count": 19,
   "metadata": {},
   "outputs": [],
   "source": [
    "# for col in ['임대보증금','임대료']:\n",
    "#     df_train[col] = pd.Series(map(np.log,df_train[col]))\n",
    "#     df_test[col] = pd.Series(map(np.log,df_test[col]))"
   ]
  },
  {
   "cell_type": "code",
   "execution_count": 20,
   "metadata": {},
   "outputs": [
    {
     "output_type": "execute_result",
     "data": {
      "text/plain": [
       "       단지코드  총세대수   전용면적  전용면적별세대수   공가수       임대보증금       임대료  단지내주차면수  \\\n",
       "0     C2483   900  39.72       134  38.0  15667000.0  103680.0   1425.0   \n",
       "1     C2483   900  39.72        15  38.0  15667000.0  103680.0   1425.0   \n",
       "2     C2483   900  51.93       385  38.0  27304000.0  184330.0   1425.0   \n",
       "3     C2483   900  51.93        15  38.0  27304000.0  184330.0   1425.0   \n",
       "4     C2483   900  51.93        41  38.0  27304000.0  184330.0   1425.0   \n",
       "...     ...   ...    ...       ...   ...         ...       ...      ...   \n",
       "2947  C2532   239  49.20        19   7.0  11346000.0  116090.0    166.0   \n",
       "2948  C2532   239  51.08        34   7.0  14005000.0  142310.0    166.0   \n",
       "2949  C2532   239  51.73        34   7.0  14005000.0  142310.0    166.0   \n",
       "2950  C2532   239  51.96       114   7.0  14005000.0  142310.0    166.0   \n",
       "2951  C2532   239  54.95        19   7.0  14830000.0  151030.0    166.0   \n",
       "\n",
       "       등록차량수  도보 10분거리 내 정류장(역) 수  ...  서울특별시  세종특별자치시  울산광역시  전라남도  전라북도  \\\n",
       "0     1015.0                  3.0  ...      0        0      0     0     0   \n",
       "1     1015.0                  3.0  ...      0        0      0     0     0   \n",
       "2     1015.0                  3.0  ...      0        0      0     0     0   \n",
       "3     1015.0                  3.0  ...      0        0      0     0     0   \n",
       "4     1015.0                  3.0  ...      0        0      0     0     0   \n",
       "...      ...                  ...  ...    ...      ...    ...   ...   ...   \n",
       "2947   146.0                  1.0  ...      0        0      0     0     0   \n",
       "2948   146.0                  1.0  ...      0        0      0     0     0   \n",
       "2949   146.0                  1.0  ...      0        0      0     0     0   \n",
       "2950   146.0                  1.0  ...      0        0      0     0     0   \n",
       "2951   146.0                  1.0  ...      0        0      0     0     0   \n",
       "\n",
       "      제주특별자치도  충청남도  충청북도  상가  아파트  \n",
       "0           0     0     0   0    1  \n",
       "1           0     0     0   0    1  \n",
       "2           0     0     0   0    1  \n",
       "3           0     0     0   0    1  \n",
       "4           0     0     0   0    1  \n",
       "...       ...   ...   ...  ..  ...  \n",
       "2947        0     0     0   0    1  \n",
       "2948        0     0     0   0    1  \n",
       "2949        0     0     0   0    1  \n",
       "2950        0     0     0   0    1  \n",
       "2951        0     0     0   0    1  \n",
       "\n",
       "[2952 rows x 28 columns]"
      ],
      "text/html": "<div>\n<style scoped>\n    .dataframe tbody tr th:only-of-type {\n        vertical-align: middle;\n    }\n\n    .dataframe tbody tr th {\n        vertical-align: top;\n    }\n\n    .dataframe thead th {\n        text-align: right;\n    }\n</style>\n<table border=\"1\" class=\"dataframe\">\n  <thead>\n    <tr style=\"text-align: right;\">\n      <th></th>\n      <th>단지코드</th>\n      <th>총세대수</th>\n      <th>전용면적</th>\n      <th>전용면적별세대수</th>\n      <th>공가수</th>\n      <th>임대보증금</th>\n      <th>임대료</th>\n      <th>단지내주차면수</th>\n      <th>등록차량수</th>\n      <th>도보 10분거리 내 정류장(역) 수</th>\n      <th>...</th>\n      <th>서울특별시</th>\n      <th>세종특별자치시</th>\n      <th>울산광역시</th>\n      <th>전라남도</th>\n      <th>전라북도</th>\n      <th>제주특별자치도</th>\n      <th>충청남도</th>\n      <th>충청북도</th>\n      <th>상가</th>\n      <th>아파트</th>\n    </tr>\n  </thead>\n  <tbody>\n    <tr>\n      <th>0</th>\n      <td>C2483</td>\n      <td>900</td>\n      <td>39.72</td>\n      <td>134</td>\n      <td>38.0</td>\n      <td>15667000.0</td>\n      <td>103680.0</td>\n      <td>1425.0</td>\n      <td>1015.0</td>\n      <td>3.0</td>\n      <td>...</td>\n      <td>0</td>\n      <td>0</td>\n      <td>0</td>\n      <td>0</td>\n      <td>0</td>\n      <td>0</td>\n      <td>0</td>\n      <td>0</td>\n      <td>0</td>\n      <td>1</td>\n    </tr>\n    <tr>\n      <th>1</th>\n      <td>C2483</td>\n      <td>900</td>\n      <td>39.72</td>\n      <td>15</td>\n      <td>38.0</td>\n      <td>15667000.0</td>\n      <td>103680.0</td>\n      <td>1425.0</td>\n      <td>1015.0</td>\n      <td>3.0</td>\n      <td>...</td>\n      <td>0</td>\n      <td>0</td>\n      <td>0</td>\n      <td>0</td>\n      <td>0</td>\n      <td>0</td>\n      <td>0</td>\n      <td>0</td>\n      <td>0</td>\n      <td>1</td>\n    </tr>\n    <tr>\n      <th>2</th>\n      <td>C2483</td>\n      <td>900</td>\n      <td>51.93</td>\n      <td>385</td>\n      <td>38.0</td>\n      <td>27304000.0</td>\n      <td>184330.0</td>\n      <td>1425.0</td>\n      <td>1015.0</td>\n      <td>3.0</td>\n      <td>...</td>\n      <td>0</td>\n      <td>0</td>\n      <td>0</td>\n      <td>0</td>\n      <td>0</td>\n      <td>0</td>\n      <td>0</td>\n      <td>0</td>\n      <td>0</td>\n      <td>1</td>\n    </tr>\n    <tr>\n      <th>3</th>\n      <td>C2483</td>\n      <td>900</td>\n      <td>51.93</td>\n      <td>15</td>\n      <td>38.0</td>\n      <td>27304000.0</td>\n      <td>184330.0</td>\n      <td>1425.0</td>\n      <td>1015.0</td>\n      <td>3.0</td>\n      <td>...</td>\n      <td>0</td>\n      <td>0</td>\n      <td>0</td>\n      <td>0</td>\n      <td>0</td>\n      <td>0</td>\n      <td>0</td>\n      <td>0</td>\n      <td>0</td>\n      <td>1</td>\n    </tr>\n    <tr>\n      <th>4</th>\n      <td>C2483</td>\n      <td>900</td>\n      <td>51.93</td>\n      <td>41</td>\n      <td>38.0</td>\n      <td>27304000.0</td>\n      <td>184330.0</td>\n      <td>1425.0</td>\n      <td>1015.0</td>\n      <td>3.0</td>\n      <td>...</td>\n      <td>0</td>\n      <td>0</td>\n      <td>0</td>\n      <td>0</td>\n      <td>0</td>\n      <td>0</td>\n      <td>0</td>\n      <td>0</td>\n      <td>0</td>\n      <td>1</td>\n    </tr>\n    <tr>\n      <th>...</th>\n      <td>...</td>\n      <td>...</td>\n      <td>...</td>\n      <td>...</td>\n      <td>...</td>\n      <td>...</td>\n      <td>...</td>\n      <td>...</td>\n      <td>...</td>\n      <td>...</td>\n      <td>...</td>\n      <td>...</td>\n      <td>...</td>\n      <td>...</td>\n      <td>...</td>\n      <td>...</td>\n      <td>...</td>\n      <td>...</td>\n      <td>...</td>\n      <td>...</td>\n      <td>...</td>\n    </tr>\n    <tr>\n      <th>2947</th>\n      <td>C2532</td>\n      <td>239</td>\n      <td>49.20</td>\n      <td>19</td>\n      <td>7.0</td>\n      <td>11346000.0</td>\n      <td>116090.0</td>\n      <td>166.0</td>\n      <td>146.0</td>\n      <td>1.0</td>\n      <td>...</td>\n      <td>0</td>\n      <td>0</td>\n      <td>0</td>\n      <td>0</td>\n      <td>0</td>\n      <td>0</td>\n      <td>0</td>\n      <td>0</td>\n      <td>0</td>\n      <td>1</td>\n    </tr>\n    <tr>\n      <th>2948</th>\n      <td>C2532</td>\n      <td>239</td>\n      <td>51.08</td>\n      <td>34</td>\n      <td>7.0</td>\n      <td>14005000.0</td>\n      <td>142310.0</td>\n      <td>166.0</td>\n      <td>146.0</td>\n      <td>1.0</td>\n      <td>...</td>\n      <td>0</td>\n      <td>0</td>\n      <td>0</td>\n      <td>0</td>\n      <td>0</td>\n      <td>0</td>\n      <td>0</td>\n      <td>0</td>\n      <td>0</td>\n      <td>1</td>\n    </tr>\n    <tr>\n      <th>2949</th>\n      <td>C2532</td>\n      <td>239</td>\n      <td>51.73</td>\n      <td>34</td>\n      <td>7.0</td>\n      <td>14005000.0</td>\n      <td>142310.0</td>\n      <td>166.0</td>\n      <td>146.0</td>\n      <td>1.0</td>\n      <td>...</td>\n      <td>0</td>\n      <td>0</td>\n      <td>0</td>\n      <td>0</td>\n      <td>0</td>\n      <td>0</td>\n      <td>0</td>\n      <td>0</td>\n      <td>0</td>\n      <td>1</td>\n    </tr>\n    <tr>\n      <th>2950</th>\n      <td>C2532</td>\n      <td>239</td>\n      <td>51.96</td>\n      <td>114</td>\n      <td>7.0</td>\n      <td>14005000.0</td>\n      <td>142310.0</td>\n      <td>166.0</td>\n      <td>146.0</td>\n      <td>1.0</td>\n      <td>...</td>\n      <td>0</td>\n      <td>0</td>\n      <td>0</td>\n      <td>0</td>\n      <td>0</td>\n      <td>0</td>\n      <td>0</td>\n      <td>0</td>\n      <td>0</td>\n      <td>1</td>\n    </tr>\n    <tr>\n      <th>2951</th>\n      <td>C2532</td>\n      <td>239</td>\n      <td>54.95</td>\n      <td>19</td>\n      <td>7.0</td>\n      <td>14830000.0</td>\n      <td>151030.0</td>\n      <td>166.0</td>\n      <td>146.0</td>\n      <td>1.0</td>\n      <td>...</td>\n      <td>0</td>\n      <td>0</td>\n      <td>0</td>\n      <td>0</td>\n      <td>0</td>\n      <td>0</td>\n      <td>0</td>\n      <td>0</td>\n      <td>0</td>\n      <td>1</td>\n    </tr>\n  </tbody>\n</table>\n<p>2952 rows × 28 columns</p>\n</div>"
     },
     "metadata": {},
     "execution_count": 20
    }
   ],
   "source": [
    "df_train"
   ]
  },
  {
   "cell_type": "code",
   "execution_count": 21,
   "metadata": {},
   "outputs": [
    {
     "output_type": "execute_result",
     "data": {
      "text/plain": [
       "((2952, 28), (1022, 27))"
      ]
     },
     "metadata": {},
     "execution_count": 21
    }
   ],
   "source": [
    "df_train.shape, df_test.shape"
   ]
  },
  {
   "cell_type": "code",
   "execution_count": 22,
   "metadata": {},
   "outputs": [],
   "source": [
    "df_train = np.round(df_train.groupby('단지코드').mean(),0)\n",
    "df_test = np.round(df_test.groupby('단지코드').mean(),0)\n"
   ]
  },
  {
   "cell_type": "code",
   "execution_count": 23,
   "metadata": {},
   "outputs": [
    {
     "output_type": "execute_result",
     "data": {
      "text/plain": [
       "((423, 27), (150, 26))"
      ]
     },
     "metadata": {},
     "execution_count": 23
    }
   ],
   "source": [
    "df_train.shape, df_test.shape"
   ]
  },
  {
   "cell_type": "code",
   "execution_count": 24,
   "metadata": {},
   "outputs": [
    {
     "output_type": "execute_result",
     "data": {
      "text/plain": [
       "Index(['총세대수', '전용면적', '전용면적별세대수', '공가수', '임대보증금', '임대료', '단지내주차면수', '등록차량수',\n",
       "       '도보 10분거리 내 정류장(역) 수', '강원도', '경기도', '경상남도', '경상북도', '광주광역시', '대구광역시',\n",
       "       '대전광역시', '부산광역시', '서울특별시', '세종특별자치시', '울산광역시', '전라남도', '전라북도',\n",
       "       '제주특별자치도', '충청남도', '충청북도', '상가', '아파트'],\n",
       "      dtype='object')"
      ]
     },
     "metadata": {},
     "execution_count": 24
    }
   ],
   "source": [
    "df_train.columns"
   ]
  },
  {
   "cell_type": "code",
   "execution_count": 25,
   "metadata": {},
   "outputs": [
    {
     "output_type": "execute_result",
     "data": {
      "text/plain": [
       "Index(['총세대수', '전용면적', '전용면적별세대수', '공가수', '임대보증금', '임대료', '단지내주차면수',\n",
       "       '도보 10분거리 내 정류장(역) 수', '강원도', '경기도', '경상남도', '경상북도', '광주광역시', '대구광역시',\n",
       "       '대전광역시', '부산광역시', '세종특별자치시', '울산광역시', '전라남도', '전라북도', '제주특별자치도', '충청남도',\n",
       "       '충청북도', '서울특별시', '상가', '아파트'],\n",
       "      dtype='object')"
      ]
     },
     "metadata": {},
     "execution_count": 25
    }
   ],
   "source": [
    "df_test.columns"
   ]
  },
  {
   "cell_type": "code",
   "execution_count": 26,
   "metadata": {},
   "outputs": [
    {
     "output_type": "execute_result",
     "data": {
      "text/plain": [
       "((423, 26), (423,), (150, 26))"
      ]
     },
     "metadata": {},
     "execution_count": 26
    }
   ],
   "source": [
    "feature_cols = df_train.columns.difference(['등록차량수'])\n",
    "x_train = df_train[feature_cols]\n",
    "y_train = df_train['등록차량수']\n",
    "x_test = df_test[feature_cols]\n",
    "x_train.shape, y_train.shape, x_test.shape"
   ]
  },
  {
   "cell_type": "code",
   "execution_count": 27,
   "metadata": {},
   "outputs": [],
   "source": [
    "from sklearn.linear_model import LinearRegression\n",
    "from sklearn.ensemble import RandomForestRegressor, GradientBoostingRegressor, AdaBoostRegressor\n",
    "from sklearn.model_selection import GridSearchCV"
   ]
  },
  {
   "cell_type": "code",
   "execution_count": 28,
   "metadata": {},
   "outputs": [
    {
     "output_type": "execute_result",
     "data": {
      "text/plain": [
       "0.8103554835192117"
      ]
     },
     "metadata": {},
     "execution_count": 28
    }
   ],
   "source": [
    "lr = LinearRegression().fit(x_train, y_train)\n",
    "lr.score(x_train,y_train)"
   ]
  },
  {
   "cell_type": "code",
   "execution_count": 41,
   "metadata": {},
   "outputs": [
    {
     "output_type": "execute_result",
     "data": {
      "text/plain": [
       "{'max_features': 6, 'n_estimators': 30}"
      ]
     },
     "metadata": {},
     "execution_count": 41
    }
   ],
   "source": [
    "rf_grid = [\n",
    "        {'n_estimators': [3, 10, 30], \n",
    "        'max_features': [2, 4, 6, 8]}\n",
    "    ]\n",
    "\n",
    "\n",
    "rf = RandomForestRegressor()\n",
    "fit_rf = GridSearchCV(rf, param_grid =  rf_grid, cv=5)\n",
    "fit_rf.fit(x_train, y_train)\n",
    "fit_rf.best_params_"
   ]
  },
  {
   "cell_type": "code",
   "execution_count": 38,
   "metadata": {},
   "outputs": [
    {
     "output_type": "stream",
     "name": "stdout",
     "text": [
      "Fitting 5 folds for each of 6 candidates, totalling 30 fits\n"
     ]
    },
    {
     "output_type": "execute_result",
     "data": {
      "text/plain": [
       "{'learning_rate': 0.05, 'n_estimators': 100}"
      ]
     },
     "metadata": {},
     "execution_count": 38
    }
   ],
   "source": [
    "gbm_grid = [\n",
    "    {'n_estimators' : [100, 300, 500 ],\n",
    "     'learning_rate' : [0.05, 0.1]\n",
    "    }\n",
    "]\n",
    "gbm = GradientBoostingRegressor()\n",
    "fit_gbm = GridSearchCV(gbm, param_grid=gbm_grid, cv=5, verbose=1, n_jobs=-1).fit(x_train, y_train)\n",
    "fit_gbm.best_params_"
   ]
  },
  {
   "cell_type": "code",
   "execution_count": 39,
   "metadata": {},
   "outputs": [
    {
     "output_type": "stream",
     "name": "stdout",
     "text": [
      "Fitting 5 folds for each of 6 candidates, totalling 30 fits\n"
     ]
    },
    {
     "output_type": "execute_result",
     "data": {
      "text/plain": [
       "{'learning_rate': 0.05, 'n_estimators': 100}"
      ]
     },
     "metadata": {},
     "execution_count": 39
    }
   ],
   "source": [
    "lgbm_grid = [\n",
    "    {'n_estimators' : [100, 300, 500 ],\n",
    "     'learning_rate' : [0.05, 0.1]\n",
    "    }\n",
    "]\n",
    "\n",
    "lgbm = lightgbm.LGBMRegressor()\n",
    "fit_lgbm = GridSearchCV(lgbm, param_grid = lgbm_grid, cv = 5, verbose = 1, n_jobs = -1).fit(x_train, y_train)\n",
    "fit_lgbm.best_params_"
   ]
  },
  {
   "cell_type": "code",
   "execution_count": 40,
   "metadata": {},
   "outputs": [
    {
     "output_type": "stream",
     "name": "stdout",
     "text": [
      "Fitting 5 folds for each of 6 candidates, totalling 30 fits\n"
     ]
    },
    {
     "output_type": "execute_result",
     "data": {
      "text/plain": [
       "{'learning_rate': 0.1, 'n_estimators': 100}"
      ]
     },
     "metadata": {},
     "execution_count": 40
    }
   ],
   "source": [
    "xgb_grid = [\n",
    "    {'n_estimators' : [100, 300, 500 ],\n",
    "     'learning_rate' : [0.05, 0.1]\n",
    "    }\n",
    "]\n",
    "\n",
    "xgb = xgboost.XGBRegressor()\n",
    "fit_xgb = GridSearchCV(xgb, param_grid = xgb_grid, cv = 5, verbose = 1, n_jobs = -1).fit(x_train, y_train)\n",
    "fit_xgb.best_params_"
   ]
  },
  {
   "cell_type": "code",
   "execution_count": null,
   "metadata": {},
   "outputs": [],
   "source": [
    "rf = RandomForestRegressor(max_features = 8, n_estimators = 30, criterion= 'mse').fit(x_train,y_train)"
   ]
  },
  {
   "cell_type": "code",
   "execution_count": null,
   "metadata": {},
   "outputs": [],
   "source": [
    "from sklearn.linear_model import LinearRegression\n",
    "from sklearn.ensemble import AdaBoostRegressor, GradientBoostingRegressor, BaggingRegressor\n",
    "import xgboost\n",
    "import lightgbm"
   ]
  },
  {
   "cell_type": "code",
   "execution_count": null,
   "metadata": {},
   "outputs": [],
   "source": []
  },
  {
   "cell_type": "code",
   "execution_count": 43,
   "metadata": {},
   "outputs": [],
   "source": [
    "MLA = [\n",
    "    # Linear model\n",
    "    LinearRegression(),\n",
    "    \n",
    "    # Bagging \n",
    "    BaggingRegressor(),\n",
    "\n",
    "    # ensemble\n",
    "    # RandomForestRegressor(max_features =  6, n_estimators = 30),\n",
    "    GradientBoostingRegressor(learning_rate = 0.05, n_estimators = 100),\n",
    "    AdaBoostRegressor(),\n",
    "\n",
    "\n",
    "    # xgboost\n",
    "    xgboost.XGBRegressor(learning_rate = 0.1, n_estimators = 100),\n",
    "\n",
    "    # LGBM\n",
    "    lightgbm.LGBMRegressor(learning_rate =  0.05, n_estimators =  100)\n",
    "]"
   ]
  },
  {
   "cell_type": "code",
   "execution_count": 47,
   "metadata": {},
   "outputs": [],
   "source": [
    "rf = RandomForestRegressor(max_features= 6, n_estimators= 30)\n",
    "rf.fit(x_train,y_train)\n",
    "y_pred = rf.predict(x_test)"
   ]
  },
  {
   "cell_type": "code",
   "execution_count": 45,
   "metadata": {},
   "outputs": [],
   "source": [
    "rf.fit(x_train, y_train)\n",
    "result = rf.predict(x_test)\n",
    "for model in MLA:\n",
    "    model.fit(x_train,y_train)\n",
    "    y_pred = model.predict(x_test)\n",
    "    result += y_pred\n",
    "y_pred = result / 7\n",
    "\n"
   ]
  },
  {
   "cell_type": "code",
   "execution_count": 50,
   "metadata": {},
   "outputs": [],
   "source": [
    "sub = sub.sort_values('code')\n",
    "sub['num'] = y_pred\n",
    "sub.to_csv('result.csv',index = False)"
   ]
  },
  {
   "cell_type": "code",
   "execution_count": 49,
   "metadata": {},
   "outputs": [],
   "source": [
    " lgbm = lightgbm.LGBMRegressor(learning_rate =  0.05, n_estimators =  100)\n",
    " lgbm.fit(x_train, y_train)\n",
    " y_pred = lgbm.predict(x_test)"
   ]
  },
  {
   "cell_type": "code",
   "execution_count": null,
   "metadata": {},
   "outputs": [],
   "source": []
  }
 ]
}