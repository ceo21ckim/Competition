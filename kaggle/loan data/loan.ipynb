{
 "metadata": {
  "language_info": {
   "codemirror_mode": {
    "name": "ipython",
    "version": 3
   },
   "file_extension": ".py",
   "mimetype": "text/x-python",
   "name": "python",
   "nbconvert_exporter": "python",
   "pygments_lexer": "ipython3",
   "version": "3.9.2"
  },
  "orig_nbformat": 4,
  "kernelspec": {
   "name": "python3",
   "display_name": "Python 3.9.2 64-bit ('geo': conda)"
  },
  "interpreter": {
   "hash": "9a957a1fea41707a244f264f295721eb09ec21d5be06b513cdb5f37b29d60cc5"
  }
 },
 "nbformat": 4,
 "nbformat_minor": 2,
 "cells": [
  {
   "cell_type": "code",
   "execution_count": 1,
   "metadata": {},
   "outputs": [],
   "source": [
    "import pandas as pd"
   ]
  },
  {
   "cell_type": "code",
   "execution_count": 4,
   "metadata": {},
   "outputs": [],
   "source": [
    "loan = pd.read_csv('loan_data.csv', encoding = 'utf-8')"
   ]
  },
  {
   "source": [
    "- credit.policy\n",
    "\n",
    "- purpose : purpose of the loan\n",
    "    - creditcard\n",
    "    - debtconsolidation\n",
    "    - educational\n",
    "    - majorpurchase\n",
    "    - smallbusiness\n",
    "    - all_other    \n",
    "\n",
    "- int.rate\n",
    "    - The interest rate of the loan\n",
    "\n",
    "- installment\n",
    "    - The monthly installments\n",
    "\n",
    "- log.annual.inc\n",
    "    - self-reported annual income\n",
    "\n",
    "- dti\n",
    "    - The debt-to-income ratio\n",
    "\n",
    "- fico\n",
    "    - The FICO credit score\n",
    "\n",
    "- days.with.cr.line\n",
    "    - The number of days the borrower has had a credit line.\n",
    "\n",
    "- revol.bal\n",
    "    - 차용인의 회전 잔액 (신용 카드 청구주기 종료시 미납 금액).\n",
    "\n",
    "- revol.util\n",
    "    - 차용인의 회전 라인 이용률 (사용 가능한 총 신용 대비 사용 된 신용 한도 금액).\n",
    "\n",
    "- inq.last.6mths\n",
    "    - 지난 6 개월 동안 채권자가 조회 한 차용인의 수\n",
    "\n",
    "- delinq.2yrs\n",
    "    - 지난 2 년 동안 차용인이 지불 기한을 30 일 이상 연체 한 횟수입니다\n",
    "\n",
    "- pub.rec\n",
    "    -  차용인의 공개 기록 수 (파산 신고, 세금 유치권 또는 판결)\n",
    "\n",
    "\n",
    "target : credit.policy\n",
    "\n",
    "feature\n",
    "- category : purpose\n",
    "- numeric : int.rate,installent, log.annual.inc, dti, fico, days.with.cr.line, revol.bal, revol.util, inq.last.6mths, delinq.2yrs, pub.rec"
   ],
   "cell_type": "markdown",
   "metadata": {}
  },
  {
   "cell_type": "code",
   "execution_count": 10,
   "metadata": {},
   "outputs": [],
   "source": [
    "cat_cols = ['purpose']\n",
    "num_cols = [\n",
    "    'int.rate','installent', 'log.annual.inc', 'dti', 'fico',\n",
    "    'days.with.cr.line', 'revol.bal', 'revol.util',\n",
    "    'inq.last.6mths', 'delinq.2yrs, pub.rec'\n",
    "    ]\n",
    "\n",
    "target = ['credit.policy']"
   ]
  },
  {
   "cell_type": "code",
   "execution_count": 12,
   "metadata": {},
   "outputs": [],
   "source": [
    "from sklearn.model_selection import train_test_split"
   ]
  },
  {
   "cell_type": "code",
   "execution_count": null,
   "metadata": {},
   "outputs": [],
   "source": []
  }
 ]
}