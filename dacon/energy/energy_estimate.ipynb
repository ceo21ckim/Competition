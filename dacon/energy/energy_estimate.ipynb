{
 "metadata": {
  "language_info": {
   "codemirror_mode": {
    "name": "ipython",
    "version": 3
   },
   "file_extension": ".py",
   "mimetype": "text/x-python",
   "name": "python",
   "nbconvert_exporter": "python",
   "pygments_lexer": "ipython3",
   "version": "3.9.2"
  },
  "orig_nbformat": 4,
  "kernelspec": {
   "name": "python3",
   "display_name": "Python 3.9.2 64-bit ('geo': conda)"
  },
  "interpreter": {
   "hash": "9a957a1fea41707a244f264f295721eb09ec21d5be06b513cdb5f37b29d60cc5"
  }
 },
 "nbformat": 4,
 "nbformat_minor": 2,
 "cells": [
  {
   "cell_type": "code",
   "execution_count": 134,
   "metadata": {},
   "outputs": [],
   "source": [
    "import pandas as pd\n",
    "import numpy as np"
   ]
  },
  {
   "cell_type": "code",
   "execution_count": 135,
   "metadata": {},
   "outputs": [],
   "source": [
    "test = pd.read_csv('test.csv', encoding = 'cp949')\n",
    "train = pd.read_csv('train.csv', encoding = 'cp949')\n",
    "sub = pd.read_csv('sample_submission.csv', encoding = 'cp949')"
   ]
  },
  {
   "cell_type": "code",
   "execution_count": 136,
   "metadata": {},
   "outputs": [
    {
     "output_type": "stream",
     "name": "stdout",
     "text": [
      "<class 'pandas.core.frame.DataFrame'>\nRangeIndex: 122400 entries, 0 to 122399\nData columns (total 10 columns):\n #   Column      Non-Null Count   Dtype  \n---  ------      --------------   -----  \n 0   num         122400 non-null  int64  \n 1   date_time   122400 non-null  object \n 2   전력사용량(kWh)  122400 non-null  float64\n 3   기온(°C)      122400 non-null  float64\n 4   풍속(m/s)     122400 non-null  float64\n 5   습도(%)       122400 non-null  float64\n 6   강수량(mm)     122400 non-null  float64\n 7   일조(hr)      122400 non-null  float64\n 8   비전기냉방설비운영   122400 non-null  float64\n 9   태양광보유       122400 non-null  float64\ndtypes: float64(8), int64(1), object(1)\nmemory usage: 9.3+ MB\n"
     ]
    }
   ],
   "source": [
    "train.info()"
   ]
  },
  {
   "source": [
    "- target\n",
    "    - 전력사용량(kWh)\n",
    "- feature\n",
    "    - numeric\n",
    "        - 기온\n",
    "        - 풍속\n",
    "        - 습도\n",
    "        - 강수량\n",
    "        - 일조\n",
    "        - 비전기냉방시설운영 : 0,1 factor\n",
    "        - 태양광보유 : 0,1 factor\n",
    "        - num : 건물번호\n",
    "    - datetime\n",
    "        - date_time"
   ],
   "cell_type": "markdown",
   "metadata": {}
  },
  {
   "cell_type": "code",
   "execution_count": 137,
   "metadata": {},
   "outputs": [],
   "source": [
    "df_train = train.copy()\n",
    "df_test = test.copy()"
   ]
  },
  {
   "source": [
    "- date time 선언"
   ],
   "cell_type": "markdown",
   "metadata": {}
  },
  {
   "cell_type": "code",
   "execution_count": 138,
   "metadata": {},
   "outputs": [],
   "source": [
    "df_train['date_time'] = pd.to_datetime(df_train['date_time'])\n",
    "df_test['date_time'] = pd.to_datetime(df_test['date_time'])\n",
    "\n",
    "df_train['year'] = df_train['date_time'].dt.year\n",
    "df_train['month'] = df_train['date_time'].dt.month\n",
    "df_train['day'] = df_train['date_time'].dt.day\n",
    "df_train['hour'] = df_train['date_time'].dt.hour\n",
    "\n",
    "df_test['year'] = df_test['date_time'].dt.year\n",
    "df_test['month'] = df_test['date_time'].dt.month\n",
    "df_test['day'] = df_test['date_time'].dt.day\n",
    "df_test['hour'] = df_test['date_time'].dt.hour\n"
   ]
  },
  {
   "cell_type": "code",
   "execution_count": 139,
   "metadata": {},
   "outputs": [
    {
     "output_type": "execute_result",
     "data": {
      "text/plain": [
       "        num           date_time  전력사용량(kWh)  기온(°C)  풍속(m/s)  습도(%)  강수량(mm)  \\\n",
       "0         1 2020-06-01 00:00:00    8179.056    17.6      2.5   92.0      0.8   \n",
       "1         1 2020-06-01 01:00:00    8135.640    17.7      2.9   91.0      0.3   \n",
       "2         1 2020-06-01 02:00:00    8107.128    17.5      3.2   91.0      0.0   \n",
       "3         1 2020-06-01 03:00:00    8048.808    17.1      3.2   91.0      0.0   \n",
       "4         1 2020-06-01 04:00:00    8043.624    17.0      3.3   92.0      0.0   \n",
       "...     ...                 ...         ...     ...      ...    ...      ...   \n",
       "122395   60 2020-08-24 19:00:00    4114.368    27.8      2.3   68.0      0.0   \n",
       "122396   60 2020-08-24 20:00:00    3975.696    27.3      1.2   71.0      0.0   \n",
       "122397   60 2020-08-24 21:00:00    3572.208    27.3      1.8   71.0      0.0   \n",
       "122398   60 2020-08-24 22:00:00    3299.184    27.1      1.8   74.0      0.0   \n",
       "122399   60 2020-08-24 23:00:00    3204.576    27.1      2.6   75.0      0.0   \n",
       "\n",
       "        일조(hr)  비전기냉방설비운영  태양광보유  year  month  day  hour  \n",
       "0          0.0        0.0    0.0  2020      6    1     0  \n",
       "1          0.0        0.0    0.0  2020      6    1     1  \n",
       "2          0.0        0.0    0.0  2020      6    1     2  \n",
       "3          0.0        0.0    0.0  2020      6    1     3  \n",
       "4          0.0        0.0    0.0  2020      6    1     4  \n",
       "...        ...        ...    ...   ...    ...  ...   ...  \n",
       "122395     0.7        1.0    1.0  2020      8   24    19  \n",
       "122396     0.0        1.0    1.0  2020      8   24    20  \n",
       "122397     0.0        1.0    1.0  2020      8   24    21  \n",
       "122398     0.0        1.0    1.0  2020      8   24    22  \n",
       "122399     0.0        1.0    1.0  2020      8   24    23  \n",
       "\n",
       "[122400 rows x 14 columns]"
      ],
      "text/html": "<div>\n<style scoped>\n    .dataframe tbody tr th:only-of-type {\n        vertical-align: middle;\n    }\n\n    .dataframe tbody tr th {\n        vertical-align: top;\n    }\n\n    .dataframe thead th {\n        text-align: right;\n    }\n</style>\n<table border=\"1\" class=\"dataframe\">\n  <thead>\n    <tr style=\"text-align: right;\">\n      <th></th>\n      <th>num</th>\n      <th>date_time</th>\n      <th>전력사용량(kWh)</th>\n      <th>기온(°C)</th>\n      <th>풍속(m/s)</th>\n      <th>습도(%)</th>\n      <th>강수량(mm)</th>\n      <th>일조(hr)</th>\n      <th>비전기냉방설비운영</th>\n      <th>태양광보유</th>\n      <th>year</th>\n      <th>month</th>\n      <th>day</th>\n      <th>hour</th>\n    </tr>\n  </thead>\n  <tbody>\n    <tr>\n      <th>0</th>\n      <td>1</td>\n      <td>2020-06-01 00:00:00</td>\n      <td>8179.056</td>\n      <td>17.6</td>\n      <td>2.5</td>\n      <td>92.0</td>\n      <td>0.8</td>\n      <td>0.0</td>\n      <td>0.0</td>\n      <td>0.0</td>\n      <td>2020</td>\n      <td>6</td>\n      <td>1</td>\n      <td>0</td>\n    </tr>\n    <tr>\n      <th>1</th>\n      <td>1</td>\n      <td>2020-06-01 01:00:00</td>\n      <td>8135.640</td>\n      <td>17.7</td>\n      <td>2.9</td>\n      <td>91.0</td>\n      <td>0.3</td>\n      <td>0.0</td>\n      <td>0.0</td>\n      <td>0.0</td>\n      <td>2020</td>\n      <td>6</td>\n      <td>1</td>\n      <td>1</td>\n    </tr>\n    <tr>\n      <th>2</th>\n      <td>1</td>\n      <td>2020-06-01 02:00:00</td>\n      <td>8107.128</td>\n      <td>17.5</td>\n      <td>3.2</td>\n      <td>91.0</td>\n      <td>0.0</td>\n      <td>0.0</td>\n      <td>0.0</td>\n      <td>0.0</td>\n      <td>2020</td>\n      <td>6</td>\n      <td>1</td>\n      <td>2</td>\n    </tr>\n    <tr>\n      <th>3</th>\n      <td>1</td>\n      <td>2020-06-01 03:00:00</td>\n      <td>8048.808</td>\n      <td>17.1</td>\n      <td>3.2</td>\n      <td>91.0</td>\n      <td>0.0</td>\n      <td>0.0</td>\n      <td>0.0</td>\n      <td>0.0</td>\n      <td>2020</td>\n      <td>6</td>\n      <td>1</td>\n      <td>3</td>\n    </tr>\n    <tr>\n      <th>4</th>\n      <td>1</td>\n      <td>2020-06-01 04:00:00</td>\n      <td>8043.624</td>\n      <td>17.0</td>\n      <td>3.3</td>\n      <td>92.0</td>\n      <td>0.0</td>\n      <td>0.0</td>\n      <td>0.0</td>\n      <td>0.0</td>\n      <td>2020</td>\n      <td>6</td>\n      <td>1</td>\n      <td>4</td>\n    </tr>\n    <tr>\n      <th>...</th>\n      <td>...</td>\n      <td>...</td>\n      <td>...</td>\n      <td>...</td>\n      <td>...</td>\n      <td>...</td>\n      <td>...</td>\n      <td>...</td>\n      <td>...</td>\n      <td>...</td>\n      <td>...</td>\n      <td>...</td>\n      <td>...</td>\n      <td>...</td>\n    </tr>\n    <tr>\n      <th>122395</th>\n      <td>60</td>\n      <td>2020-08-24 19:00:00</td>\n      <td>4114.368</td>\n      <td>27.8</td>\n      <td>2.3</td>\n      <td>68.0</td>\n      <td>0.0</td>\n      <td>0.7</td>\n      <td>1.0</td>\n      <td>1.0</td>\n      <td>2020</td>\n      <td>8</td>\n      <td>24</td>\n      <td>19</td>\n    </tr>\n    <tr>\n      <th>122396</th>\n      <td>60</td>\n      <td>2020-08-24 20:00:00</td>\n      <td>3975.696</td>\n      <td>27.3</td>\n      <td>1.2</td>\n      <td>71.0</td>\n      <td>0.0</td>\n      <td>0.0</td>\n      <td>1.0</td>\n      <td>1.0</td>\n      <td>2020</td>\n      <td>8</td>\n      <td>24</td>\n      <td>20</td>\n    </tr>\n    <tr>\n      <th>122397</th>\n      <td>60</td>\n      <td>2020-08-24 21:00:00</td>\n      <td>3572.208</td>\n      <td>27.3</td>\n      <td>1.8</td>\n      <td>71.0</td>\n      <td>0.0</td>\n      <td>0.0</td>\n      <td>1.0</td>\n      <td>1.0</td>\n      <td>2020</td>\n      <td>8</td>\n      <td>24</td>\n      <td>21</td>\n    </tr>\n    <tr>\n      <th>122398</th>\n      <td>60</td>\n      <td>2020-08-24 22:00:00</td>\n      <td>3299.184</td>\n      <td>27.1</td>\n      <td>1.8</td>\n      <td>74.0</td>\n      <td>0.0</td>\n      <td>0.0</td>\n      <td>1.0</td>\n      <td>1.0</td>\n      <td>2020</td>\n      <td>8</td>\n      <td>24</td>\n      <td>22</td>\n    </tr>\n    <tr>\n      <th>122399</th>\n      <td>60</td>\n      <td>2020-08-24 23:00:00</td>\n      <td>3204.576</td>\n      <td>27.1</td>\n      <td>2.6</td>\n      <td>75.0</td>\n      <td>0.0</td>\n      <td>0.0</td>\n      <td>1.0</td>\n      <td>1.0</td>\n      <td>2020</td>\n      <td>8</td>\n      <td>24</td>\n      <td>23</td>\n    </tr>\n  </tbody>\n</table>\n<p>122400 rows × 14 columns</p>\n</div>"
     },
     "metadata": {},
     "execution_count": 139
    }
   ],
   "source": [
    "df_train"
   ]
  },
  {
   "source": [
    "- numeric feature standardization"
   ],
   "cell_type": "markdown",
   "metadata": {}
  },
  {
   "source": [
    "- get_dummies"
   ],
   "cell_type": "markdown",
   "metadata": {}
  },
  {
   "cell_type": "code",
   "execution_count": 140,
   "metadata": {},
   "outputs": [
    {
     "output_type": "stream",
     "name": "stderr",
     "text": [
      "<ipython-input-140-757461e7f276>:7: SettingWithCopyWarning: \nA value is trying to be set on a copy of a slice from a DataFrame\n\nSee the caveats in the documentation: https://pandas.pydata.org/pandas-docs/stable/user_guide/indexing.html#returning-a-view-versus-a-copy\n  df_train[cols[1]][df_train[cols[1]] == 1] = '냉방설비 운영'\n<ipython-input-140-757461e7f276>:9: SettingWithCopyWarning: \nA value is trying to be set on a copy of a slice from a DataFrame\n\nSee the caveats in the documentation: https://pandas.pydata.org/pandas-docs/stable/user_guide/indexing.html#returning-a-view-versus-a-copy\n  df_train[cols[-1]][df_train[cols[-1]] == 1] = '태양광 보유'\n<ipython-input-140-757461e7f276>:12: SettingWithCopyWarning: \nA value is trying to be set on a copy of a slice from a DataFrame\n\nSee the caveats in the documentation: https://pandas.pydata.org/pandas-docs/stable/user_guide/indexing.html#returning-a-view-versus-a-copy\n  df_test[cols[1]][df_test[cols[1]] == 1] = '냉방설비 운영'\n<ipython-input-140-757461e7f276>:14: SettingWithCopyWarning: \nA value is trying to be set on a copy of a slice from a DataFrame\n\nSee the caveats in the documentation: https://pandas.pydata.org/pandas-docs/stable/user_guide/indexing.html#returning-a-view-versus-a-copy\n  df_test[cols[-1]][df_test[cols[-1]] == 1] = '태양광 보유'\n"
     ]
    }
   ],
   "source": [
    "# df_train = pd.concat([df_train,pd.get_dummies(df_train['num'])], axis = 1)\n",
    "# df_test = pd.concat([df_test,pd.get_dummies(df_test['num'])], axis = 1)\n",
    "df_test[['비전기냉방설비운영','태양광보유']] = df_test[['비전기냉방설비운영','태양광보유']].fillna(0)\n",
    "\n",
    "cols = ['num','비전기냉방설비운영','태양광보유']\n",
    "\n",
    "df_train[cols[1]][df_train[cols[1]] == 1] = '냉방설비 운영'\n",
    "df_train[cols[1]][df_train[cols[1]] == 0] = '냉방설비 비운영' \n",
    "df_train[cols[-1]][df_train[cols[-1]] == 1] = '태양광 보유'\n",
    "df_train[cols[-1]][df_train[cols[-1]] == 0] = '태양광 미보유'\n",
    "\n",
    "df_test[cols[1]][df_test[cols[1]] == 1] = '냉방설비 운영'\n",
    "df_test[cols[1]][df_test[cols[1]] == 0] = '냉방설비 비운영' \n",
    "df_test[cols[-1]][df_test[cols[-1]] == 1] = '태양광 보유'\n",
    "df_test[cols[-1]][df_test[cols[-1]] == 0] = '태양광 미보유'\n",
    "\n",
    "for col in cols:\n",
    "    df_train = pd.concat([df_train, pd.get_dummies(df_train[col])], axis = 1)\n",
    "    df_test = pd.concat([df_test, pd.get_dummies(df_test[col])], axis = 1)\n",
    "    \n",
    "for col in cols[1:]:\n",
    "    del df_train[col]\n",
    "    del df_test[col]   "
   ]
  },
  {
   "cell_type": "code",
   "execution_count": 142,
   "metadata": {},
   "outputs": [
    {
     "output_type": "execute_result",
     "data": {
      "text/plain": [
       "        num           date_time  전력사용량(kWh)  기온(°C)  풍속(m/s)  습도(%)  강수량(mm)  \\\n",
       "0         1 2020-06-01 00:00:00    8179.056    17.6      2.5   92.0      0.8   \n",
       "1         1 2020-06-01 01:00:00    8135.640    17.7      2.9   91.0      0.3   \n",
       "2         1 2020-06-01 02:00:00    8107.128    17.5      3.2   91.0      0.0   \n",
       "3         1 2020-06-01 03:00:00    8048.808    17.1      3.2   91.0      0.0   \n",
       "4         1 2020-06-01 04:00:00    8043.624    17.0      3.3   92.0      0.0   \n",
       "...     ...                 ...         ...     ...      ...    ...      ...   \n",
       "122395   60 2020-08-24 19:00:00    4114.368    27.8      2.3   68.0      0.0   \n",
       "122396   60 2020-08-24 20:00:00    3975.696    27.3      1.2   71.0      0.0   \n",
       "122397   60 2020-08-24 21:00:00    3572.208    27.3      1.8   71.0      0.0   \n",
       "122398   60 2020-08-24 22:00:00    3299.184    27.1      1.8   74.0      0.0   \n",
       "122399   60 2020-08-24 23:00:00    3204.576    27.1      2.6   75.0      0.0   \n",
       "\n",
       "        일조(hr)  year  month  ...  55  56  57  58  59  60  냉방설비 비운영  냉방설비 운영  \\\n",
       "0          0.0  2020      6  ...   0   0   0   0   0   0         1        0   \n",
       "1          0.0  2020      6  ...   0   0   0   0   0   0         1        0   \n",
       "2          0.0  2020      6  ...   0   0   0   0   0   0         1        0   \n",
       "3          0.0  2020      6  ...   0   0   0   0   0   0         1        0   \n",
       "4          0.0  2020      6  ...   0   0   0   0   0   0         1        0   \n",
       "...        ...   ...    ...  ...  ..  ..  ..  ..  ..  ..       ...      ...   \n",
       "122395     0.7  2020      8  ...   0   0   0   0   0   1         0        1   \n",
       "122396     0.0  2020      8  ...   0   0   0   0   0   1         0        1   \n",
       "122397     0.0  2020      8  ...   0   0   0   0   0   1         0        1   \n",
       "122398     0.0  2020      8  ...   0   0   0   0   0   1         0        1   \n",
       "122399     0.0  2020      8  ...   0   0   0   0   0   1         0        1   \n",
       "\n",
       "        태양광 미보유  태양광 보유  \n",
       "0             1       0  \n",
       "1             1       0  \n",
       "2             1       0  \n",
       "3             1       0  \n",
       "4             1       0  \n",
       "...         ...     ...  \n",
       "122395        0       1  \n",
       "122396        0       1  \n",
       "122397        0       1  \n",
       "122398        0       1  \n",
       "122399        0       1  \n",
       "\n",
       "[122400 rows x 76 columns]"
      ],
      "text/html": "<div>\n<style scoped>\n    .dataframe tbody tr th:only-of-type {\n        vertical-align: middle;\n    }\n\n    .dataframe tbody tr th {\n        vertical-align: top;\n    }\n\n    .dataframe thead th {\n        text-align: right;\n    }\n</style>\n<table border=\"1\" class=\"dataframe\">\n  <thead>\n    <tr style=\"text-align: right;\">\n      <th></th>\n      <th>num</th>\n      <th>date_time</th>\n      <th>전력사용량(kWh)</th>\n      <th>기온(°C)</th>\n      <th>풍속(m/s)</th>\n      <th>습도(%)</th>\n      <th>강수량(mm)</th>\n      <th>일조(hr)</th>\n      <th>year</th>\n      <th>month</th>\n      <th>...</th>\n      <th>55</th>\n      <th>56</th>\n      <th>57</th>\n      <th>58</th>\n      <th>59</th>\n      <th>60</th>\n      <th>냉방설비 비운영</th>\n      <th>냉방설비 운영</th>\n      <th>태양광 미보유</th>\n      <th>태양광 보유</th>\n    </tr>\n  </thead>\n  <tbody>\n    <tr>\n      <th>0</th>\n      <td>1</td>\n      <td>2020-06-01 00:00:00</td>\n      <td>8179.056</td>\n      <td>17.6</td>\n      <td>2.5</td>\n      <td>92.0</td>\n      <td>0.8</td>\n      <td>0.0</td>\n      <td>2020</td>\n      <td>6</td>\n      <td>...</td>\n      <td>0</td>\n      <td>0</td>\n      <td>0</td>\n      <td>0</td>\n      <td>0</td>\n      <td>0</td>\n      <td>1</td>\n      <td>0</td>\n      <td>1</td>\n      <td>0</td>\n    </tr>\n    <tr>\n      <th>1</th>\n      <td>1</td>\n      <td>2020-06-01 01:00:00</td>\n      <td>8135.640</td>\n      <td>17.7</td>\n      <td>2.9</td>\n      <td>91.0</td>\n      <td>0.3</td>\n      <td>0.0</td>\n      <td>2020</td>\n      <td>6</td>\n      <td>...</td>\n      <td>0</td>\n      <td>0</td>\n      <td>0</td>\n      <td>0</td>\n      <td>0</td>\n      <td>0</td>\n      <td>1</td>\n      <td>0</td>\n      <td>1</td>\n      <td>0</td>\n    </tr>\n    <tr>\n      <th>2</th>\n      <td>1</td>\n      <td>2020-06-01 02:00:00</td>\n      <td>8107.128</td>\n      <td>17.5</td>\n      <td>3.2</td>\n      <td>91.0</td>\n      <td>0.0</td>\n      <td>0.0</td>\n      <td>2020</td>\n      <td>6</td>\n      <td>...</td>\n      <td>0</td>\n      <td>0</td>\n      <td>0</td>\n      <td>0</td>\n      <td>0</td>\n      <td>0</td>\n      <td>1</td>\n      <td>0</td>\n      <td>1</td>\n      <td>0</td>\n    </tr>\n    <tr>\n      <th>3</th>\n      <td>1</td>\n      <td>2020-06-01 03:00:00</td>\n      <td>8048.808</td>\n      <td>17.1</td>\n      <td>3.2</td>\n      <td>91.0</td>\n      <td>0.0</td>\n      <td>0.0</td>\n      <td>2020</td>\n      <td>6</td>\n      <td>...</td>\n      <td>0</td>\n      <td>0</td>\n      <td>0</td>\n      <td>0</td>\n      <td>0</td>\n      <td>0</td>\n      <td>1</td>\n      <td>0</td>\n      <td>1</td>\n      <td>0</td>\n    </tr>\n    <tr>\n      <th>4</th>\n      <td>1</td>\n      <td>2020-06-01 04:00:00</td>\n      <td>8043.624</td>\n      <td>17.0</td>\n      <td>3.3</td>\n      <td>92.0</td>\n      <td>0.0</td>\n      <td>0.0</td>\n      <td>2020</td>\n      <td>6</td>\n      <td>...</td>\n      <td>0</td>\n      <td>0</td>\n      <td>0</td>\n      <td>0</td>\n      <td>0</td>\n      <td>0</td>\n      <td>1</td>\n      <td>0</td>\n      <td>1</td>\n      <td>0</td>\n    </tr>\n    <tr>\n      <th>...</th>\n      <td>...</td>\n      <td>...</td>\n      <td>...</td>\n      <td>...</td>\n      <td>...</td>\n      <td>...</td>\n      <td>...</td>\n      <td>...</td>\n      <td>...</td>\n      <td>...</td>\n      <td>...</td>\n      <td>...</td>\n      <td>...</td>\n      <td>...</td>\n      <td>...</td>\n      <td>...</td>\n      <td>...</td>\n      <td>...</td>\n      <td>...</td>\n      <td>...</td>\n      <td>...</td>\n    </tr>\n    <tr>\n      <th>122395</th>\n      <td>60</td>\n      <td>2020-08-24 19:00:00</td>\n      <td>4114.368</td>\n      <td>27.8</td>\n      <td>2.3</td>\n      <td>68.0</td>\n      <td>0.0</td>\n      <td>0.7</td>\n      <td>2020</td>\n      <td>8</td>\n      <td>...</td>\n      <td>0</td>\n      <td>0</td>\n      <td>0</td>\n      <td>0</td>\n      <td>0</td>\n      <td>1</td>\n      <td>0</td>\n      <td>1</td>\n      <td>0</td>\n      <td>1</td>\n    </tr>\n    <tr>\n      <th>122396</th>\n      <td>60</td>\n      <td>2020-08-24 20:00:00</td>\n      <td>3975.696</td>\n      <td>27.3</td>\n      <td>1.2</td>\n      <td>71.0</td>\n      <td>0.0</td>\n      <td>0.0</td>\n      <td>2020</td>\n      <td>8</td>\n      <td>...</td>\n      <td>0</td>\n      <td>0</td>\n      <td>0</td>\n      <td>0</td>\n      <td>0</td>\n      <td>1</td>\n      <td>0</td>\n      <td>1</td>\n      <td>0</td>\n      <td>1</td>\n    </tr>\n    <tr>\n      <th>122397</th>\n      <td>60</td>\n      <td>2020-08-24 21:00:00</td>\n      <td>3572.208</td>\n      <td>27.3</td>\n      <td>1.8</td>\n      <td>71.0</td>\n      <td>0.0</td>\n      <td>0.0</td>\n      <td>2020</td>\n      <td>8</td>\n      <td>...</td>\n      <td>0</td>\n      <td>0</td>\n      <td>0</td>\n      <td>0</td>\n      <td>0</td>\n      <td>1</td>\n      <td>0</td>\n      <td>1</td>\n      <td>0</td>\n      <td>1</td>\n    </tr>\n    <tr>\n      <th>122398</th>\n      <td>60</td>\n      <td>2020-08-24 22:00:00</td>\n      <td>3299.184</td>\n      <td>27.1</td>\n      <td>1.8</td>\n      <td>74.0</td>\n      <td>0.0</td>\n      <td>0.0</td>\n      <td>2020</td>\n      <td>8</td>\n      <td>...</td>\n      <td>0</td>\n      <td>0</td>\n      <td>0</td>\n      <td>0</td>\n      <td>0</td>\n      <td>1</td>\n      <td>0</td>\n      <td>1</td>\n      <td>0</td>\n      <td>1</td>\n    </tr>\n    <tr>\n      <th>122399</th>\n      <td>60</td>\n      <td>2020-08-24 23:00:00</td>\n      <td>3204.576</td>\n      <td>27.1</td>\n      <td>2.6</td>\n      <td>75.0</td>\n      <td>0.0</td>\n      <td>0.0</td>\n      <td>2020</td>\n      <td>8</td>\n      <td>...</td>\n      <td>0</td>\n      <td>0</td>\n      <td>0</td>\n      <td>0</td>\n      <td>0</td>\n      <td>1</td>\n      <td>0</td>\n      <td>1</td>\n      <td>0</td>\n      <td>1</td>\n    </tr>\n  </tbody>\n</table>\n<p>122400 rows × 76 columns</p>\n</div>"
     },
     "metadata": {},
     "execution_count": 142
    }
   ],
   "source": [
    "df_train"
   ]
  },
  {
   "cell_type": "code",
   "execution_count": 144,
   "metadata": {},
   "outputs": [],
   "source": [
    "feature_cols = ['기온(°C)','풍속(m/s)','습도(%)','일조(hr, 3시간)','강수량(mm, 6시간)']"
   ]
  },
  {
   "cell_type": "code",
   "execution_count": 145,
   "metadata": {},
   "outputs": [
    {
     "output_type": "stream",
     "name": "stderr",
     "text": [
      "<ipython-input-145-d34f0d03d57f>:4: SettingWithCopyWarning: \n",
      "A value is trying to be set on a copy of a slice from a DataFrame\n",
      "\n",
      "See the caveats in the documentation: https://pandas.pydata.org/pandas-docs/stable/user_guide/indexing.html#returning-a-view-versus-a-copy\n",
      "  df_test[feature_cols[i]][x+j] = df_test[feature_cols[i]][x]\n",
      "<ipython-input-145-d34f0d03d57f>:8: SettingWithCopyWarning: \n",
      "A value is trying to be set on a copy of a slice from a DataFrame\n",
      "\n",
      "See the caveats in the documentation: https://pandas.pydata.org/pandas-docs/stable/user_guide/indexing.html#returning-a-view-versus-a-copy\n",
      "  df_test['강수량(mm, 6시간)'][x+k] = df_test['강수량(mm, 6시간)'][x]\n"
     ]
    }
   ],
   "source": [
    "feature_cols = ['기온(°C)','풍속(m/s)','습도(%)','일조(hr, 3시간)','강수량(mm, 6시간)']\n",
    "\n",
    "for i in range(4):\n",
    "    for x in range(0,len(df_test),3):\n",
    "        for j in range(1,3):\n",
    "            df_test[feature_cols[i]][x+j] = df_test[feature_cols[i]][x]\n",
    "\n",
    "for x in range(0,len(df_test),6):\n",
    "    for k in range(1,6):\n",
    "        df_test['강수량(mm, 6시간)'][x+k] = df_test['강수량(mm, 6시간)'][x]\n"
   ]
  },
  {
   "cell_type": "code",
   "execution_count": 148,
   "metadata": {},
   "outputs": [],
   "source": [
    "# onehotencoding \n",
    "\n",
    "feature_train = df_train.columns.difference(['전력사용량(kWh)','date_time','num'])\n",
    "feature_test = df_test.columns.difference(['date_time','num'])\n",
    "x_train = df_train[feature_train]\n",
    "y_train = df_train[['num','date_time','전력사용량(kWh)']]\n",
    "x_test = df_test[feature_test]\n"
   ]
  },
  {
   "cell_type": "code",
   "execution_count": 150,
   "metadata": {},
   "outputs": [
    {
     "output_type": "execute_result",
     "data": {
      "text/plain": [
       "((122400, 73), (122400, 3), (10080, 73))"
      ]
     },
     "metadata": {},
     "execution_count": 150
    }
   ],
   "source": [
    "x_train.shape, y_train.shape, x_test.shape"
   ]
  },
  {
   "cell_type": "code",
   "execution_count": 168,
   "metadata": {},
   "outputs": [],
   "source": [
    "from sklearn.ensemble import RandomForestRegressor, AdaBoostRegressor, BaggingRegressor, ExtraTreesRegressor,GradientBoostingRegressor\n",
    "from sklearn.linear_model import LinearRegression\n",
    "from xgboost import XGBRegressor\n",
    "from lightgbm import LGBMRegressor, LGBMRanker, LGBMClassifier"
   ]
  },
  {
   "cell_type": "code",
   "execution_count": 165,
   "metadata": {},
   "outputs": [
    {
     "output_type": "execute_result",
     "data": {
      "text/plain": [
       "LGBMRanker()"
      ]
     },
     "metadata": {},
     "execution_count": 165
    }
   ],
   "source": []
  },
  {
   "cell_type": "code",
   "execution_count": 152,
   "metadata": {},
   "outputs": [],
   "source": [
    "# rf = RandomForestRegressor().fit(x_train, y_train['전력사용량(kWh)'])\n",
    "# y_pred = rf.predict(x_test)\n",
    "# # rf.score(x_train, y_train['전력사용량(kWh)'])\n"
   ]
  },
  {
   "cell_type": "code",
   "execution_count": 159,
   "metadata": {},
   "outputs": [],
   "source": [
    "MLA = [\n",
    "    # Linear\n",
    "    LinearRegression(),\n",
    "\n",
    "    #Ensemble Methods\n",
    "    #AdaBoostRegressor(),\n",
    "    BaggingRegressor(),\n",
    "    ExtraTreesRegressor(),\n",
    "    GradientBoostingRegressor(),\n",
    "    RandomForestRegressor(),\n",
    "\n",
    "    #xgboost\n",
    "    XGBRegressor(),\n",
    "\n",
    "    #LGBM\n",
    "    LGBMRegressor()\n",
    "\n",
    "]"
   ]
  },
  {
   "cell_type": "code",
   "execution_count": 154,
   "metadata": {},
   "outputs": [],
   "source": [
    "# for model in MLA :\n",
    "#     print(str(model).split('(')[0])"
   ]
  },
  {
   "cell_type": "code",
   "execution_count": 155,
   "metadata": {},
   "outputs": [
    {
     "output_type": "execute_result",
     "data": {
      "text/plain": [
       "       1  2  3  4  5  6  7  8  9  10  ...  year  강수량(mm, 6시간)  기온(°C)  \\\n",
       "0      1  0  0  0  0  0  0  0  0   0  ...  2020           0.0    27.8   \n",
       "1      1  0  0  0  0  0  0  0  0   0  ...  2020           0.0    27.8   \n",
       "2      1  0  0  0  0  0  0  0  0   0  ...  2020           0.0    27.8   \n",
       "3      1  0  0  0  0  0  0  0  0   0  ...  2020           0.0    27.3   \n",
       "4      1  0  0  0  0  0  0  0  0   0  ...  2020           0.0    27.3   \n",
       "...   .. .. .. .. .. .. .. .. ..  ..  ...   ...           ...     ...   \n",
       "10075  0  0  0  0  0  0  0  0  0   0  ...  2020           0.0    29.0   \n",
       "10076  0  0  0  0  0  0  0  0  0   0  ...  2020           0.0    29.0   \n",
       "10077  0  0  0  0  0  0  0  0  0   0  ...  2020           0.0    27.9   \n",
       "10078  0  0  0  0  0  0  0  0  0   0  ...  2020           0.0    27.9   \n",
       "10079  0  0  0  0  0  0  0  0  0   0  ...  2020           0.0    27.9   \n",
       "\n",
       "       냉방설비 비운영  냉방설비 운영  습도(%)  일조(hr, 3시간)  태양광 미보유  태양광 보유  풍속(m/s)  \n",
       "0             1        0   74.0          0.0        1       0      1.5  \n",
       "1             1        0   74.0          0.0        1       0      1.5  \n",
       "2             1        0   74.0          0.0        1       0      1.5  \n",
       "3             1        0   78.0          0.0        1       0      1.1  \n",
       "4             1        0   78.0          0.0        1       0      1.1  \n",
       "...         ...      ...    ...          ...      ...     ...      ...  \n",
       "10075         1        0   65.0          0.8        1       0      3.3  \n",
       "10076         1        0   65.0          0.8        1       0      3.3  \n",
       "10077         0        1   68.0          0.0        0       1      4.1  \n",
       "10078         1        0   68.0          0.0        1       0      4.1  \n",
       "10079         1        0   68.0          0.0        1       0      4.1  \n",
       "\n",
       "[10080 rows x 73 columns]"
      ],
      "text/html": "<div>\n<style scoped>\n    .dataframe tbody tr th:only-of-type {\n        vertical-align: middle;\n    }\n\n    .dataframe tbody tr th {\n        vertical-align: top;\n    }\n\n    .dataframe thead th {\n        text-align: right;\n    }\n</style>\n<table border=\"1\" class=\"dataframe\">\n  <thead>\n    <tr style=\"text-align: right;\">\n      <th></th>\n      <th>1</th>\n      <th>2</th>\n      <th>3</th>\n      <th>4</th>\n      <th>5</th>\n      <th>6</th>\n      <th>7</th>\n      <th>8</th>\n      <th>9</th>\n      <th>10</th>\n      <th>...</th>\n      <th>year</th>\n      <th>강수량(mm, 6시간)</th>\n      <th>기온(°C)</th>\n      <th>냉방설비 비운영</th>\n      <th>냉방설비 운영</th>\n      <th>습도(%)</th>\n      <th>일조(hr, 3시간)</th>\n      <th>태양광 미보유</th>\n      <th>태양광 보유</th>\n      <th>풍속(m/s)</th>\n    </tr>\n  </thead>\n  <tbody>\n    <tr>\n      <th>0</th>\n      <td>1</td>\n      <td>0</td>\n      <td>0</td>\n      <td>0</td>\n      <td>0</td>\n      <td>0</td>\n      <td>0</td>\n      <td>0</td>\n      <td>0</td>\n      <td>0</td>\n      <td>...</td>\n      <td>2020</td>\n      <td>0.0</td>\n      <td>27.8</td>\n      <td>1</td>\n      <td>0</td>\n      <td>74.0</td>\n      <td>0.0</td>\n      <td>1</td>\n      <td>0</td>\n      <td>1.5</td>\n    </tr>\n    <tr>\n      <th>1</th>\n      <td>1</td>\n      <td>0</td>\n      <td>0</td>\n      <td>0</td>\n      <td>0</td>\n      <td>0</td>\n      <td>0</td>\n      <td>0</td>\n      <td>0</td>\n      <td>0</td>\n      <td>...</td>\n      <td>2020</td>\n      <td>0.0</td>\n      <td>27.8</td>\n      <td>1</td>\n      <td>0</td>\n      <td>74.0</td>\n      <td>0.0</td>\n      <td>1</td>\n      <td>0</td>\n      <td>1.5</td>\n    </tr>\n    <tr>\n      <th>2</th>\n      <td>1</td>\n      <td>0</td>\n      <td>0</td>\n      <td>0</td>\n      <td>0</td>\n      <td>0</td>\n      <td>0</td>\n      <td>0</td>\n      <td>0</td>\n      <td>0</td>\n      <td>...</td>\n      <td>2020</td>\n      <td>0.0</td>\n      <td>27.8</td>\n      <td>1</td>\n      <td>0</td>\n      <td>74.0</td>\n      <td>0.0</td>\n      <td>1</td>\n      <td>0</td>\n      <td>1.5</td>\n    </tr>\n    <tr>\n      <th>3</th>\n      <td>1</td>\n      <td>0</td>\n      <td>0</td>\n      <td>0</td>\n      <td>0</td>\n      <td>0</td>\n      <td>0</td>\n      <td>0</td>\n      <td>0</td>\n      <td>0</td>\n      <td>...</td>\n      <td>2020</td>\n      <td>0.0</td>\n      <td>27.3</td>\n      <td>1</td>\n      <td>0</td>\n      <td>78.0</td>\n      <td>0.0</td>\n      <td>1</td>\n      <td>0</td>\n      <td>1.1</td>\n    </tr>\n    <tr>\n      <th>4</th>\n      <td>1</td>\n      <td>0</td>\n      <td>0</td>\n      <td>0</td>\n      <td>0</td>\n      <td>0</td>\n      <td>0</td>\n      <td>0</td>\n      <td>0</td>\n      <td>0</td>\n      <td>...</td>\n      <td>2020</td>\n      <td>0.0</td>\n      <td>27.3</td>\n      <td>1</td>\n      <td>0</td>\n      <td>78.0</td>\n      <td>0.0</td>\n      <td>1</td>\n      <td>0</td>\n      <td>1.1</td>\n    </tr>\n    <tr>\n      <th>...</th>\n      <td>...</td>\n      <td>...</td>\n      <td>...</td>\n      <td>...</td>\n      <td>...</td>\n      <td>...</td>\n      <td>...</td>\n      <td>...</td>\n      <td>...</td>\n      <td>...</td>\n      <td>...</td>\n      <td>...</td>\n      <td>...</td>\n      <td>...</td>\n      <td>...</td>\n      <td>...</td>\n      <td>...</td>\n      <td>...</td>\n      <td>...</td>\n      <td>...</td>\n      <td>...</td>\n    </tr>\n    <tr>\n      <th>10075</th>\n      <td>0</td>\n      <td>0</td>\n      <td>0</td>\n      <td>0</td>\n      <td>0</td>\n      <td>0</td>\n      <td>0</td>\n      <td>0</td>\n      <td>0</td>\n      <td>0</td>\n      <td>...</td>\n      <td>2020</td>\n      <td>0.0</td>\n      <td>29.0</td>\n      <td>1</td>\n      <td>0</td>\n      <td>65.0</td>\n      <td>0.8</td>\n      <td>1</td>\n      <td>0</td>\n      <td>3.3</td>\n    </tr>\n    <tr>\n      <th>10076</th>\n      <td>0</td>\n      <td>0</td>\n      <td>0</td>\n      <td>0</td>\n      <td>0</td>\n      <td>0</td>\n      <td>0</td>\n      <td>0</td>\n      <td>0</td>\n      <td>0</td>\n      <td>...</td>\n      <td>2020</td>\n      <td>0.0</td>\n      <td>29.0</td>\n      <td>1</td>\n      <td>0</td>\n      <td>65.0</td>\n      <td>0.8</td>\n      <td>1</td>\n      <td>0</td>\n      <td>3.3</td>\n    </tr>\n    <tr>\n      <th>10077</th>\n      <td>0</td>\n      <td>0</td>\n      <td>0</td>\n      <td>0</td>\n      <td>0</td>\n      <td>0</td>\n      <td>0</td>\n      <td>0</td>\n      <td>0</td>\n      <td>0</td>\n      <td>...</td>\n      <td>2020</td>\n      <td>0.0</td>\n      <td>27.9</td>\n      <td>0</td>\n      <td>1</td>\n      <td>68.0</td>\n      <td>0.0</td>\n      <td>0</td>\n      <td>1</td>\n      <td>4.1</td>\n    </tr>\n    <tr>\n      <th>10078</th>\n      <td>0</td>\n      <td>0</td>\n      <td>0</td>\n      <td>0</td>\n      <td>0</td>\n      <td>0</td>\n      <td>0</td>\n      <td>0</td>\n      <td>0</td>\n      <td>0</td>\n      <td>...</td>\n      <td>2020</td>\n      <td>0.0</td>\n      <td>27.9</td>\n      <td>1</td>\n      <td>0</td>\n      <td>68.0</td>\n      <td>0.0</td>\n      <td>1</td>\n      <td>0</td>\n      <td>4.1</td>\n    </tr>\n    <tr>\n      <th>10079</th>\n      <td>0</td>\n      <td>0</td>\n      <td>0</td>\n      <td>0</td>\n      <td>0</td>\n      <td>0</td>\n      <td>0</td>\n      <td>0</td>\n      <td>0</td>\n      <td>0</td>\n      <td>...</td>\n      <td>2020</td>\n      <td>0.0</td>\n      <td>27.9</td>\n      <td>1</td>\n      <td>0</td>\n      <td>68.0</td>\n      <td>0.0</td>\n      <td>1</td>\n      <td>0</td>\n      <td>4.1</td>\n    </tr>\n  </tbody>\n</table>\n<p>10080 rows × 73 columns</p>\n</div>"
     },
     "metadata": {},
     "execution_count": 155
    }
   ],
   "source": [
    "x_test"
   ]
  },
  {
   "cell_type": "code",
   "execution_count": 156,
   "metadata": {},
   "outputs": [],
   "source": [
    "model = AdaBoostRegressor().fit(x_train, y_train['전력사용량(kWh)'])\n",
    "result = model.predict(x_test)\n",
    "for model in MLA :\n",
    "    model.fit(x_train, y_train['전력사용량(kWh)'])\n",
    "    y_pred = model.predict(x_test)\n",
    "    result += y_pred\n",
    "\n",
    "y_pred = result / 8\n",
    "sub['answer'] = y_pred\n",
    "sub.to_csv('result_hp_tuning.csv',index = False)"
   ]
  },
  {
   "cell_type": "code",
   "execution_count": 162,
   "metadata": {},
   "outputs": [],
   "source": [
    "lgbm = LGBMRegressor().fit(x_train, y_train['전력사용량(kWh)'])\n",
    "y_pred = lgbm.predict(x_test)\n",
    "sub['answer'] = y_pred\n",
    "sub.to_csv('result_hp_tuning.csv',index = False)"
   ]
  },
  {
   "cell_type": "code",
   "execution_count": 172,
   "metadata": {},
   "outputs": [],
   "source": [
    "lgbm = LGBMRegressor().fit(x_train, y_train['전력사용량(kWh)'])\n",
    "y_pred = lgbm.predict(x_test)\n",
    "sub['answer'] = y_pred\n",
    "sub.to_csv('result_hp_tuning.csv',index = False)"
   ]
  },
  {
   "cell_type": "code",
   "execution_count": 163,
   "metadata": {},
   "outputs": [
    {
     "output_type": "execute_result",
     "data": {
      "text/plain": [
       "array([8442.00874614, 8402.79858946, 8397.61848777, ..., 3463.6223268 ,\n",
       "       3005.8535496 , 3005.8535496 ])"
      ]
     },
     "metadata": {},
     "execution_count": 163
    }
   ],
   "source": [
    "y_pred"
   ]
  },
  {
   "cell_type": "code",
   "execution_count": 176,
   "metadata": {},
   "outputs": [],
   "source": [
    "from sklearn.model_selection import GridSearchCV"
   ]
  },
  {
   "cell_type": "code",
   "execution_count": 185,
   "metadata": {},
   "outputs": [],
   "source": [
    "lgbm_grid = [{'learning_rate' : [ 0.05, 0.1],\n",
    "         'n_estimators' : [100, 300, 500]}\n",
    "         ]"
   ]
  },
  {
   "cell_type": "code",
   "execution_count": 186,
   "metadata": {},
   "outputs": [],
   "source": [
    "lgbm = LGBMRegressor()"
   ]
  },
  {
   "cell_type": "code",
   "execution_count": 190,
   "metadata": {},
   "outputs": [
    {
     "output_type": "execute_result",
     "data": {
      "text/plain": [
       "GridSearchCV(cv=3, estimator=LGBMRegressor(),\n",
       "             param_grid=[{'learning_rate': [0.05, 0.1],\n",
       "                          'n_estimators': [100, 300, 500]}])"
      ]
     },
     "metadata": {},
     "execution_count": 190
    }
   ],
   "source": [
    "lgbm_model = GridSearchCV(lgbm, param_grid= lgbm_grid, cv = 3)\n",
    "lgbm_model.fit(x_train, y_train['전력사용량(kWh)'])"
   ]
  },
  {
   "cell_type": "code",
   "execution_count": 194,
   "metadata": {},
   "outputs": [],
   "source": [
    "y_pred = lgbm_model.predict(x_test)"
   ]
  },
  {
   "cell_type": "code",
   "execution_count": 195,
   "metadata": {},
   "outputs": [],
   "source": [
    "sub['answer'] = y_pred\n",
    "sub.to_csv('result_hp_tuning.csv',index = False)"
   ]
  },
  {
   "cell_type": "code",
   "execution_count": null,
   "metadata": {},
   "outputs": [],
   "source": []
  }
 ]
}