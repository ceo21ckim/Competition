{
 "metadata": {
  "language_info": {
   "codemirror_mode": {
    "name": "ipython",
    "version": 3
   },
   "file_extension": ".py",
   "mimetype": "text/x-python",
   "name": "python",
   "nbconvert_exporter": "python",
   "pygments_lexer": "ipython3",
   "version": "3.9.2"
  },
  "orig_nbformat": 4,
  "kernelspec": {
   "name": "python3",
   "display_name": "Python 3.9.2 64-bit ('geo': conda)"
  },
  "interpreter": {
   "hash": "9a957a1fea41707a244f264f295721eb09ec21d5be06b513cdb5f37b29d60cc5"
  }
 },
 "nbformat": 4,
 "nbformat_minor": 2,
 "cells": [
  {
   "cell_type": "code",
   "execution_count": 122,
   "metadata": {},
   "outputs": [],
   "source": [
    "import pandas as pd"
   ]
  },
  {
   "cell_type": "code",
   "execution_count": 123,
   "metadata": {},
   "outputs": [],
   "source": [
    "test = pd.read_csv('test.csv', encoding = 'cp949')\n",
    "train = pd.read_csv('train.csv', encoding = 'cp949')\n",
    "sub = pd.read_csv('sample_submission.csv', encoding = 'cp949')"
   ]
  },
  {
   "source": [
    "- target\n",
    "    - 전력사용량(kWh)\n",
    "- feature\n",
    "    - numeric\n",
    "        - 기온\n",
    "        - 풍속\n",
    "        - 습도\n",
    "        - 강수량\n",
    "        - 일조\n",
    "        - 비전기냉방시설운영 : 0,1 factor\n",
    "        - 태양광보유 : 0,1 factor\n",
    "        - num : 건물번호\n",
    "    - datetime\n",
    "        - date_time"
   ],
   "cell_type": "markdown",
   "metadata": {}
  },
  {
   "source": [
    "- 비가 내리고 안내리고에 따라서 태양광을 보유한 곳에서 전기 사용량 차이가 있는지 확인"
   ],
   "cell_type": "markdown",
   "metadata": {}
  },
  {
   "cell_type": "code",
   "execution_count": 124,
   "metadata": {},
   "outputs": [
    {
     "output_type": "stream",
     "name": "stderr",
     "text": [
      "<ipython-input-124-51685eb8f665>:6: SettingWithCopyWarning: \n",
      "A value is trying to be set on a copy of a slice from a DataFrame\n",
      "\n",
      "See the caveats in the documentation: https://pandas.pydata.org/pandas-docs/stable/user_guide/indexing.html#returning-a-view-versus-a-copy\n",
      "  test[feature_cols[i]][x+j] = test[feature_cols[i]][x]\n",
      "<ipython-input-124-51685eb8f665>:10: SettingWithCopyWarning: \n",
      "A value is trying to be set on a copy of a slice from a DataFrame\n",
      "\n",
      "See the caveats in the documentation: https://pandas.pydata.org/pandas-docs/stable/user_guide/indexing.html#returning-a-view-versus-a-copy\n",
      "  test['강수량(mm, 6시간)'][x+k] = test['강수량(mm, 6시간)'][x]\n"
     ]
    }
   ],
   "source": [
    "feature_cols = ['기온(°C)','풍속(m/s)','습도(%)','일조(hr, 3시간)','강수량(mm, 6시간)']\n",
    "\n",
    "for i in range(4):\n",
    "    for x in range(0,len(test),3):\n",
    "        for j in range(1,3):\n",
    "            test[feature_cols[i]][x+j] = test[feature_cols[i]][x]\n",
    "\n",
    "for x in range(0,len(test),6):\n",
    "    for k in range(1,6):\n",
    "        test['강수량(mm, 6시간)'][x+k] = test['강수량(mm, 6시간)'][x]\n"
   ]
  },
  {
   "cell_type": "code",
   "execution_count": 125,
   "metadata": {},
   "outputs": [],
   "source": [
    "train.loc[train['강수량(mm)'] !=0, '우천'] = 1\n",
    "train.loc[train['강수량(mm)'] ==0, '우천'] = 0\n",
    "\n",
    "test.loc[test['강수량(mm, 6시간)'] !=0, '우천'] = 1\n",
    "test.loc[test['강수량(mm, 6시간)'] ==0, '우천'] = 0\n",
    "\n"
   ]
  },
  {
   "cell_type": "code",
   "execution_count": 126,
   "metadata": {},
   "outputs": [],
   "source": [
    "\n",
    "#date_time\n",
    "train['month'] = pd.to_datetime(train['date_time']).dt.month\n",
    "train['day'] = pd.to_datetime(train['date_time']).dt.day\n",
    "train['hour'] = pd.to_datetime(train['date_time']).dt.hour\n",
    "\n",
    "\n",
    "test['month'] = pd.to_datetime(test['date_time']).dt.month\n",
    "test['day'] = pd.to_datetime(test['date_time']).dt.day\n",
    "test['hour'] = pd.to_datetime(test['date_time']).dt.hour"
   ]
  },
  {
   "cell_type": "code",
   "execution_count": 127,
   "metadata": {},
   "outputs": [],
   "source": [
    "# import statsmodels.api as sm\n",
    "# feature_cols = train.columns.difference(['date_time','전력사용량(kWh)'])\n",
    "# x = train[feature_cols]\n",
    "# y = train[['전력사용량(kWh)']]\n",
    "# X = sm.add_constant(x, has_constant= 'add')\n",
    "# model = sm.OLS(y, X)\n",
    "# multi_model = model.fit()\n",
    "# multi_model.summary()"
   ]
  },
  {
   "cell_type": "code",
   "execution_count": 128,
   "metadata": {},
   "outputs": [],
   "source": [
    "train.loc[(train['hour'] > 5 ) & (train['hour'] < 19) , '해 떠있는 시간'] = 1\n",
    "train.loc[(train['hour'] <= 5 ) | (train['hour'] >= 19) , '해 떠있는 시간'] = 0\n",
    "\n",
    "\n",
    "test.loc[(test['hour'] > 5 ) & (test['hour'] < 19) , '해 떠있는 시간'] = 1\n",
    "test.loc[(test['hour'] <= 5 ) | (test['hour'] >= 19) , '해 떠있는 시간'] = 0"
   ]
  },
  {
   "cell_type": "code",
   "execution_count": 129,
   "metadata": {},
   "outputs": [],
   "source": [
    "test['비전기냉방설비운영'].fillna(0, inplace =True)\n",
    "test['태양광보유'].fillna(0, inplace = True)"
   ]
  },
  {
   "cell_type": "code",
   "execution_count": 130,
   "metadata": {},
   "outputs": [],
   "source": [
    "test.rename(columns = {'강수량(mm, 6시간)' : '강수량(mm)', '일조(hr, 3시간)' : '일조(hr)'},inplace = True)"
   ]
  },
  {
   "cell_type": "code",
   "execution_count": 131,
   "metadata": {},
   "outputs": [],
   "source": [
    "# testnum_cols = ['기온(°C)','풍속(m/s)','습도(%)','강수량(mm)','일조(hr)']\n",
    "\n",
    "# from sklearn.preprocessing import StandardScaler\n",
    "# sds = StandardScaler()\n",
    "# train[num_cols] = sds.fit_transform(train[num_cols])\n",
    "# test[num_cols] = sds.fit_transform(test[num_cols])"
   ]
  },
  {
   "cell_type": "code",
   "execution_count": 132,
   "metadata": {},
   "outputs": [],
   "source": [
    "feature_cols = train.columns.difference(['date_time','전력사용량(kWh)'])\n",
    "x_train = train[feature_cols]\n",
    "y_train = train[['date_time','전력사용량(kWh)']]\n",
    "\n",
    "x_test = test[feature_cols]"
   ]
  },
  {
   "cell_type": "code",
   "execution_count": 133,
   "metadata": {},
   "outputs": [
    {
     "output_type": "execute_result",
     "data": {
      "text/plain": [
       "((122400, 13), (122400, 2), (10080, 13), (10080, 2))"
      ]
     },
     "metadata": {},
     "execution_count": 133
    }
   ],
   "source": [
    "x_train.shape, y_train.shape, x_test.shape, sub.shape"
   ]
  },
  {
   "cell_type": "code",
   "execution_count": 134,
   "metadata": {},
   "outputs": [],
   "source": [
    "from lightgbm import LGBMRegressor\n",
    "lgbm = LGBMRegressor().fit(x_train, y_train['전력사용량(kWh)'])\n",
    "y_pred = lgbm.predict(x_test)\n",
    "sub['answer'] = y_pred"
   ]
  },
  {
   "cell_type": "code",
   "execution_count": 135,
   "metadata": {},
   "outputs": [],
   "source": [
    "sub.to_csv('result_only_use_lgbm.csv', index = False)"
   ]
  },
  {
   "cell_type": "code",
   "execution_count": null,
   "metadata": {},
   "outputs": [],
   "source": []
  }
 ]
}