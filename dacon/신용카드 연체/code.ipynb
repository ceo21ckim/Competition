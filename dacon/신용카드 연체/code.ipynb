{
 "metadata": {
  "language_info": {
   "codemirror_mode": {
    "name": "ipython",
    "version": 3
   },
   "file_extension": ".py",
   "mimetype": "text/x-python",
   "name": "python",
   "nbconvert_exporter": "python",
   "pygments_lexer": "ipython3",
   "version": "3.9.2"
  },
  "orig_nbformat": 4,
  "kernelspec": {
   "name": "python3",
   "display_name": "Python 3.9.2 64-bit ('geo': conda)"
  },
  "interpreter": {
   "hash": "9a957a1fea41707a244f264f295721eb09ec21d5be06b513cdb5f37b29d60cc5"
  }
 },
 "nbformat": 4,
 "nbformat_minor": 2,
 "cells": [
  {
   "cell_type": "code",
   "execution_count": 92,
   "metadata": {},
   "outputs": [],
   "source": [
    "import pandas as pd\n",
    "import numpy as np"
   ]
  },
  {
   "cell_type": "code",
   "execution_count": 93,
   "metadata": {},
   "outputs": [],
   "source": [
    "test = pd.read_csv('test.csv', encoding = 'cp949')\n",
    "train = pd.read_csv('train.csv', encoding = 'cp949')\n",
    "sub = pd.read_csv('sample_submission.csv', encoding = 'cp949')"
   ]
  },
  {
   "source": [
    "\n",
    "- gender: 성별\n",
    "\n",
    "- car: 차량 소유 여부\n",
    "\n",
    "- reality: 부동산 소유 여부\n",
    "\n",
    "- child_num: 자녀 수\n",
    "\n",
    "- income_total: 연간 소득\n",
    "\n",
    "- income_type: 소득 분류\n",
    "    - ['Commercial associate', 'Working', 'State servant', 'Pensioner', 'Student']\n",
    "\n",
    "- edu_type: 교육 수준\n",
    "    - ['Higher education' ,'Secondary / secondary special', 'Incomplete higher', 'Lower secondary', 'Academic degree']\n",
    "\n",
    "- family_type: 결혼 여부\n",
    "    - ['Married', 'Civil marriage', 'Separated', 'Single / not married', 'Widow']\n",
    "\n",
    "- house_type: 생활 방식\n",
    "    - ['Municipal apartment', 'House / apartment', 'With parents', 'Co-op apartment', 'Rented apartment', 'Office apartment']\n",
    "\n",
    "- DAYS_BIRTH: 출생일 \n",
    "    - 데이터 수집 당시 (0)부터 역으로 셈, 즉, -1은 데이터 수집일 하루 전에 태어났음을 의미\n",
    "\n",
    "- DAYS_EMPLOYED: 업무 시작일\n",
    "    - 데이터 수집 당시 (0)부터 역으로 셈, 즉, -1은 데이터 수집일 하루 전부터 일을 시작함을 의미 \n",
    "    - 양수 값은 고용되지 않은 상태를 의미함\n",
    "\n",
    "- FLAG_MOBIL: 핸드폰 소유 여부\n",
    "\n",
    "- work_phone: 업무용 전화 소유 여부\n",
    "\n",
    "- phone: 전화 소유 여부\n",
    "\n",
    "- email: 이메일 소유 여부\n",
    "\n",
    "- occyp_type: 직업 유형\n",
    "\n",
    "- family_size: 가족 규모\n",
    "\n",
    "- begin_month: 신용카드 발급 월\n",
    "    - 데이터 수집 당시 (0)부터 역으로 셈, 즉, -1은 데이터 수집일 한 달 전에 신용카드를 발급함을 의미"
   ],
   "cell_type": "markdown",
   "metadata": {}
  },
  {
   "source": [
    "- feature \n",
    "    - category\n",
    "        - gender\n",
    "        - car\n",
    "        - reality\n",
    "        - income_type\n",
    "        - edu_type\n",
    "        - family_type\n",
    "        - house_type\n",
    "        - occyp_type\n",
    "    - numeric\n",
    "        - child_num\n",
    "        - DAYS_BIRTH\n",
    "        - DAYS_EMPLOYED\n",
    "        - FLAG_MOBIL /\n",
    "        - work_phone \n",
    "        - phone\n",
    "        - email \n",
    "        - family_size /\n",
    "        - begin_month\n",
    "- target\n",
    "    - credit\n",
    "- drop columns\n",
    "    - family_size\n",
    "    - FALG_MOBIL"
   ],
   "cell_type": "markdown",
   "metadata": {}
  },
  {
   "cell_type": "code",
   "execution_count": 94,
   "metadata": {},
   "outputs": [],
   "source": [
    "cat_cols = ['gender','car','reality','income_type','edu_type','family_type','house_type','occyp_type']\n",
    "num_cols = ['income_total','DAYS_BIRTH','DAYS_EMPLOYED','begin_month']"
   ]
  },
  {
   "source": [
    "- fill na"
   ],
   "cell_type": "markdown",
   "metadata": {}
  },
  {
   "cell_type": "code",
   "execution_count": 95,
   "metadata": {},
   "outputs": [],
   "source": [
    "train['occyp_type'] = train['occyp_type'].fillna('no_job')\n",
    "test['occyp_type'] = test['occyp_type'].fillna('no_job')"
   ]
  },
  {
   "cell_type": "code",
   "execution_count": 96,
   "metadata": {},
   "outputs": [],
   "source": [
    "train['MONTHS_BIRTH'] = (np.abs(train['DAYS_BIRTH']) / 30 ).astype('int')\n",
    "train['MONTHS_EMPLOYED'] = (np.abs(train['DAYS_EMPLOYED']) / 30).astype('int')\n",
    "train['begin_month'] = np.abs(train['begin_month'])\n",
    "\n",
    "test['MONTHS_BIRTH'] = (np.abs(test['DAYS_BIRTH']) / 30 ).astype('int')\n",
    "test['MONTHS_EMPLOYED'] = (np.abs(test['DAYS_EMPLOYED']) / 30).astype('int')\n",
    "test['begin_month'] = np.abs(test['begin_month'])\n",
    "\n",
    "for col in ['DAYS_BIRTH','DAYS_EMPLOYED']:\n",
    "    del train[col]\n",
    "    del test[col]"
   ]
  },
  {
   "source": [
    "- drop columns"
   ],
   "cell_type": "markdown",
   "metadata": {}
  },
  {
   "cell_type": "code",
   "execution_count": 97,
   "metadata": {},
   "outputs": [
    {
     "output_type": "execute_result",
     "data": {
      "text/plain": [
       "       index gender car reality  child_num  income_total  \\\n",
       "0          0      F   N       N          0      202500.0   \n",
       "1          1      F   N       Y          1      247500.0   \n",
       "2          2      M   Y       Y          0      450000.0   \n",
       "3          3      F   N       Y          0      202500.0   \n",
       "4          4      F   Y       Y          0      157500.0   \n",
       "...      ...    ...  ..     ...        ...           ...   \n",
       "26452  26452      F   N       N          2      225000.0   \n",
       "26453  26453      F   N       Y          1      180000.0   \n",
       "26454  26454      F   Y       N          0      292500.0   \n",
       "26455  26455      M   N       Y          0      171000.0   \n",
       "26456  26456      F   N       N          0       81000.0   \n",
       "\n",
       "                income_type                       edu_type  \\\n",
       "0      Commercial associate               Higher education   \n",
       "1      Commercial associate  Secondary / secondary special   \n",
       "2                   Working               Higher education   \n",
       "3      Commercial associate  Secondary / secondary special   \n",
       "4             State servant               Higher education   \n",
       "...                     ...                            ...   \n",
       "26452         State servant  Secondary / secondary special   \n",
       "26453               Working               Higher education   \n",
       "26454               Working  Secondary / secondary special   \n",
       "26455               Working              Incomplete higher   \n",
       "26456               Working  Secondary / secondary special   \n",
       "\n",
       "                family_type           house_type  FLAG_MOBIL  work_phone  \\\n",
       "0                   Married  Municipal apartment           1           0   \n",
       "1            Civil marriage    House / apartment           1           0   \n",
       "2                   Married    House / apartment           1           0   \n",
       "3                   Married    House / apartment           1           0   \n",
       "4                   Married    House / apartment           1           0   \n",
       "...                     ...                  ...         ...         ...   \n",
       "26452               Married    House / apartment           1           0   \n",
       "26453             Separated    House / apartment           1           0   \n",
       "26454        Civil marriage         With parents           1           0   \n",
       "26455  Single / not married    House / apartment           1           0   \n",
       "26456        Civil marriage    House / apartment           1           0   \n",
       "\n",
       "       phone  email      occyp_type  family_size  begin_month  credit  \\\n",
       "0          0      0          no_job          2.0          6.0     1.0   \n",
       "1          0      1        Laborers          3.0          5.0     1.0   \n",
       "2          1      0        Managers          2.0         22.0     2.0   \n",
       "3          1      0     Sales staff          2.0         37.0     0.0   \n",
       "4          0      0        Managers          2.0         26.0     2.0   \n",
       "...      ...    ...             ...          ...          ...     ...   \n",
       "26452      0      0      Core staff          4.0          2.0     1.0   \n",
       "26453      0      0          no_job          2.0         47.0     2.0   \n",
       "26454      0      0      Core staff          2.0         25.0     2.0   \n",
       "26455      0      0        Laborers          1.0         59.0     2.0   \n",
       "26456      0      0  Security staff          2.0          9.0     2.0   \n",
       "\n",
       "       MONTHS_BIRTH  MONTHS_EMPLOYED  \n",
       "0               463              156  \n",
       "1               379               51  \n",
       "2               636              147  \n",
       "3               502               69  \n",
       "4               501               70  \n",
       "...             ...              ...  \n",
       "26452           402               66  \n",
       "26453           509               82  \n",
       "26454           336               67  \n",
       "26455           338                3  \n",
       "26456           652               33  \n",
       "\n",
       "[26453 rows x 20 columns]"
      ],
      "text/html": "<div>\n<style scoped>\n    .dataframe tbody tr th:only-of-type {\n        vertical-align: middle;\n    }\n\n    .dataframe tbody tr th {\n        vertical-align: top;\n    }\n\n    .dataframe thead th {\n        text-align: right;\n    }\n</style>\n<table border=\"1\" class=\"dataframe\">\n  <thead>\n    <tr style=\"text-align: right;\">\n      <th></th>\n      <th>index</th>\n      <th>gender</th>\n      <th>car</th>\n      <th>reality</th>\n      <th>child_num</th>\n      <th>income_total</th>\n      <th>income_type</th>\n      <th>edu_type</th>\n      <th>family_type</th>\n      <th>house_type</th>\n      <th>FLAG_MOBIL</th>\n      <th>work_phone</th>\n      <th>phone</th>\n      <th>email</th>\n      <th>occyp_type</th>\n      <th>family_size</th>\n      <th>begin_month</th>\n      <th>credit</th>\n      <th>MONTHS_BIRTH</th>\n      <th>MONTHS_EMPLOYED</th>\n    </tr>\n  </thead>\n  <tbody>\n    <tr>\n      <th>0</th>\n      <td>0</td>\n      <td>F</td>\n      <td>N</td>\n      <td>N</td>\n      <td>0</td>\n      <td>202500.0</td>\n      <td>Commercial associate</td>\n      <td>Higher education</td>\n      <td>Married</td>\n      <td>Municipal apartment</td>\n      <td>1</td>\n      <td>0</td>\n      <td>0</td>\n      <td>0</td>\n      <td>no_job</td>\n      <td>2.0</td>\n      <td>6.0</td>\n      <td>1.0</td>\n      <td>463</td>\n      <td>156</td>\n    </tr>\n    <tr>\n      <th>1</th>\n      <td>1</td>\n      <td>F</td>\n      <td>N</td>\n      <td>Y</td>\n      <td>1</td>\n      <td>247500.0</td>\n      <td>Commercial associate</td>\n      <td>Secondary / secondary special</td>\n      <td>Civil marriage</td>\n      <td>House / apartment</td>\n      <td>1</td>\n      <td>0</td>\n      <td>0</td>\n      <td>1</td>\n      <td>Laborers</td>\n      <td>3.0</td>\n      <td>5.0</td>\n      <td>1.0</td>\n      <td>379</td>\n      <td>51</td>\n    </tr>\n    <tr>\n      <th>2</th>\n      <td>2</td>\n      <td>M</td>\n      <td>Y</td>\n      <td>Y</td>\n      <td>0</td>\n      <td>450000.0</td>\n      <td>Working</td>\n      <td>Higher education</td>\n      <td>Married</td>\n      <td>House / apartment</td>\n      <td>1</td>\n      <td>0</td>\n      <td>1</td>\n      <td>0</td>\n      <td>Managers</td>\n      <td>2.0</td>\n      <td>22.0</td>\n      <td>2.0</td>\n      <td>636</td>\n      <td>147</td>\n    </tr>\n    <tr>\n      <th>3</th>\n      <td>3</td>\n      <td>F</td>\n      <td>N</td>\n      <td>Y</td>\n      <td>0</td>\n      <td>202500.0</td>\n      <td>Commercial associate</td>\n      <td>Secondary / secondary special</td>\n      <td>Married</td>\n      <td>House / apartment</td>\n      <td>1</td>\n      <td>0</td>\n      <td>1</td>\n      <td>0</td>\n      <td>Sales staff</td>\n      <td>2.0</td>\n      <td>37.0</td>\n      <td>0.0</td>\n      <td>502</td>\n      <td>69</td>\n    </tr>\n    <tr>\n      <th>4</th>\n      <td>4</td>\n      <td>F</td>\n      <td>Y</td>\n      <td>Y</td>\n      <td>0</td>\n      <td>157500.0</td>\n      <td>State servant</td>\n      <td>Higher education</td>\n      <td>Married</td>\n      <td>House / apartment</td>\n      <td>1</td>\n      <td>0</td>\n      <td>0</td>\n      <td>0</td>\n      <td>Managers</td>\n      <td>2.0</td>\n      <td>26.0</td>\n      <td>2.0</td>\n      <td>501</td>\n      <td>70</td>\n    </tr>\n    <tr>\n      <th>...</th>\n      <td>...</td>\n      <td>...</td>\n      <td>...</td>\n      <td>...</td>\n      <td>...</td>\n      <td>...</td>\n      <td>...</td>\n      <td>...</td>\n      <td>...</td>\n      <td>...</td>\n      <td>...</td>\n      <td>...</td>\n      <td>...</td>\n      <td>...</td>\n      <td>...</td>\n      <td>...</td>\n      <td>...</td>\n      <td>...</td>\n      <td>...</td>\n      <td>...</td>\n    </tr>\n    <tr>\n      <th>26452</th>\n      <td>26452</td>\n      <td>F</td>\n      <td>N</td>\n      <td>N</td>\n      <td>2</td>\n      <td>225000.0</td>\n      <td>State servant</td>\n      <td>Secondary / secondary special</td>\n      <td>Married</td>\n      <td>House / apartment</td>\n      <td>1</td>\n      <td>0</td>\n      <td>0</td>\n      <td>0</td>\n      <td>Core staff</td>\n      <td>4.0</td>\n      <td>2.0</td>\n      <td>1.0</td>\n      <td>402</td>\n      <td>66</td>\n    </tr>\n    <tr>\n      <th>26453</th>\n      <td>26453</td>\n      <td>F</td>\n      <td>N</td>\n      <td>Y</td>\n      <td>1</td>\n      <td>180000.0</td>\n      <td>Working</td>\n      <td>Higher education</td>\n      <td>Separated</td>\n      <td>House / apartment</td>\n      <td>1</td>\n      <td>0</td>\n      <td>0</td>\n      <td>0</td>\n      <td>no_job</td>\n      <td>2.0</td>\n      <td>47.0</td>\n      <td>2.0</td>\n      <td>509</td>\n      <td>82</td>\n    </tr>\n    <tr>\n      <th>26454</th>\n      <td>26454</td>\n      <td>F</td>\n      <td>Y</td>\n      <td>N</td>\n      <td>0</td>\n      <td>292500.0</td>\n      <td>Working</td>\n      <td>Secondary / secondary special</td>\n      <td>Civil marriage</td>\n      <td>With parents</td>\n      <td>1</td>\n      <td>0</td>\n      <td>0</td>\n      <td>0</td>\n      <td>Core staff</td>\n      <td>2.0</td>\n      <td>25.0</td>\n      <td>2.0</td>\n      <td>336</td>\n      <td>67</td>\n    </tr>\n    <tr>\n      <th>26455</th>\n      <td>26455</td>\n      <td>M</td>\n      <td>N</td>\n      <td>Y</td>\n      <td>0</td>\n      <td>171000.0</td>\n      <td>Working</td>\n      <td>Incomplete higher</td>\n      <td>Single / not married</td>\n      <td>House / apartment</td>\n      <td>1</td>\n      <td>0</td>\n      <td>0</td>\n      <td>0</td>\n      <td>Laborers</td>\n      <td>1.0</td>\n      <td>59.0</td>\n      <td>2.0</td>\n      <td>338</td>\n      <td>3</td>\n    </tr>\n    <tr>\n      <th>26456</th>\n      <td>26456</td>\n      <td>F</td>\n      <td>N</td>\n      <td>N</td>\n      <td>0</td>\n      <td>81000.0</td>\n      <td>Working</td>\n      <td>Secondary / secondary special</td>\n      <td>Civil marriage</td>\n      <td>House / apartment</td>\n      <td>1</td>\n      <td>0</td>\n      <td>0</td>\n      <td>0</td>\n      <td>Security staff</td>\n      <td>2.0</td>\n      <td>9.0</td>\n      <td>2.0</td>\n      <td>652</td>\n      <td>33</td>\n    </tr>\n  </tbody>\n</table>\n<p>26453 rows × 20 columns</p>\n</div>"
     },
     "metadata": {},
     "execution_count": 97
    }
   ],
   "source": [
    "train = train[train['child_num'] < 8]\n",
    "train"
   ]
  },
  {
   "cell_type": "code",
   "execution_count": 98,
   "metadata": {},
   "outputs": [],
   "source": [
    "drop_cols = ['index','FLAG_MOBIL','family_size']\n",
    "for col in drop_cols:    \n",
    "    del train[col]\n",
    "    del test[col]"
   ]
  },
  {
   "cell_type": "code",
   "execution_count": 99,
   "metadata": {},
   "outputs": [],
   "source": [
    "from sklearn.preprocessing import LabelEncoder"
   ]
  },
  {
   "cell_type": "code",
   "execution_count": 100,
   "metadata": {},
   "outputs": [],
   "source": [
    "lr_cols = ['gender','car','reality']\n",
    "dummy_cols = ['income_type','edu_type','family_type','house_type','occyp_type']\n",
    "lr = LabelEncoder()\n",
    "for col in lr_cols:\n",
    "    train[col] = lr.fit_transform(train[col])\n",
    "    test[col] = lr.fit_transform(test[col])\n",
    "\n",
    "\n",
    "for col in dummy_cols:\n",
    "    train = pd.concat([train,pd.get_dummies(train[col])], axis = 1)\n",
    "    test = pd.concat([test,pd.get_dummies(test[col])], axis = 1)\n",
    "    del train[col]\n",
    "    del test[col]"
   ]
  },
  {
   "cell_type": "code",
   "execution_count": 101,
   "metadata": {},
   "outputs": [
    {
     "output_type": "execute_result",
     "data": {
      "text/plain": [
       "   gender  car  reality  child_num  income_total  work_phone  phone  email  \\\n",
       "0       1    1        0          0      112500.0           0      1      0   \n",
       "1       0    0        1          0      135000.0           0      1      0   \n",
       "2       0    0        1          0       69372.0           1      1      0   \n",
       "3       1    1        0          0      112500.0           1      0      0   \n",
       "4       0    1        1          0      225000.0           1      0      0   \n",
       "\n",
       "   begin_month  MONTHS_BIRTH  ...  Low-skill Laborers  Managers  \\\n",
       "0         60.0           733  ...                   0         0   \n",
       "1         36.0           632  ...                   0         0   \n",
       "2         40.0           529  ...                   0         0   \n",
       "3         41.0           642  ...                   0         0   \n",
       "4          8.0           594  ...                   0         1   \n",
       "\n",
       "   Medicine staff  Private service staff  Realty agents  Sales staff  \\\n",
       "0               0                      0              0            0   \n",
       "1               0                      0              0            0   \n",
       "2               0                      0              0            0   \n",
       "3               0                      0              0            0   \n",
       "4               0                      0              0            0   \n",
       "\n",
       "   Secretaries  Security staff  Waiters/barmen staff  no_job  \n",
       "0            0               0                     0       1  \n",
       "1            0               0                     0       0  \n",
       "2            0               0                     0       0  \n",
       "3            0               0                     0       0  \n",
       "4            0               0                     0       0  \n",
       "\n",
       "[5 rows x 51 columns]"
      ],
      "text/html": "<div>\n<style scoped>\n    .dataframe tbody tr th:only-of-type {\n        vertical-align: middle;\n    }\n\n    .dataframe tbody tr th {\n        vertical-align: top;\n    }\n\n    .dataframe thead th {\n        text-align: right;\n    }\n</style>\n<table border=\"1\" class=\"dataframe\">\n  <thead>\n    <tr style=\"text-align: right;\">\n      <th></th>\n      <th>gender</th>\n      <th>car</th>\n      <th>reality</th>\n      <th>child_num</th>\n      <th>income_total</th>\n      <th>work_phone</th>\n      <th>phone</th>\n      <th>email</th>\n      <th>begin_month</th>\n      <th>MONTHS_BIRTH</th>\n      <th>...</th>\n      <th>Low-skill Laborers</th>\n      <th>Managers</th>\n      <th>Medicine staff</th>\n      <th>Private service staff</th>\n      <th>Realty agents</th>\n      <th>Sales staff</th>\n      <th>Secretaries</th>\n      <th>Security staff</th>\n      <th>Waiters/barmen staff</th>\n      <th>no_job</th>\n    </tr>\n  </thead>\n  <tbody>\n    <tr>\n      <th>0</th>\n      <td>1</td>\n      <td>1</td>\n      <td>0</td>\n      <td>0</td>\n      <td>112500.0</td>\n      <td>0</td>\n      <td>1</td>\n      <td>0</td>\n      <td>60.0</td>\n      <td>733</td>\n      <td>...</td>\n      <td>0</td>\n      <td>0</td>\n      <td>0</td>\n      <td>0</td>\n      <td>0</td>\n      <td>0</td>\n      <td>0</td>\n      <td>0</td>\n      <td>0</td>\n      <td>1</td>\n    </tr>\n    <tr>\n      <th>1</th>\n      <td>0</td>\n      <td>0</td>\n      <td>1</td>\n      <td>0</td>\n      <td>135000.0</td>\n      <td>0</td>\n      <td>1</td>\n      <td>0</td>\n      <td>36.0</td>\n      <td>632</td>\n      <td>...</td>\n      <td>0</td>\n      <td>0</td>\n      <td>0</td>\n      <td>0</td>\n      <td>0</td>\n      <td>0</td>\n      <td>0</td>\n      <td>0</td>\n      <td>0</td>\n      <td>0</td>\n    </tr>\n    <tr>\n      <th>2</th>\n      <td>0</td>\n      <td>0</td>\n      <td>1</td>\n      <td>0</td>\n      <td>69372.0</td>\n      <td>1</td>\n      <td>1</td>\n      <td>0</td>\n      <td>40.0</td>\n      <td>529</td>\n      <td>...</td>\n      <td>0</td>\n      <td>0</td>\n      <td>0</td>\n      <td>0</td>\n      <td>0</td>\n      <td>0</td>\n      <td>0</td>\n      <td>0</td>\n      <td>0</td>\n      <td>0</td>\n    </tr>\n    <tr>\n      <th>3</th>\n      <td>1</td>\n      <td>1</td>\n      <td>0</td>\n      <td>0</td>\n      <td>112500.0</td>\n      <td>1</td>\n      <td>0</td>\n      <td>0</td>\n      <td>41.0</td>\n      <td>642</td>\n      <td>...</td>\n      <td>0</td>\n      <td>0</td>\n      <td>0</td>\n      <td>0</td>\n      <td>0</td>\n      <td>0</td>\n      <td>0</td>\n      <td>0</td>\n      <td>0</td>\n      <td>0</td>\n    </tr>\n    <tr>\n      <th>4</th>\n      <td>0</td>\n      <td>1</td>\n      <td>1</td>\n      <td>0</td>\n      <td>225000.0</td>\n      <td>1</td>\n      <td>0</td>\n      <td>0</td>\n      <td>8.0</td>\n      <td>594</td>\n      <td>...</td>\n      <td>0</td>\n      <td>1</td>\n      <td>0</td>\n      <td>0</td>\n      <td>0</td>\n      <td>0</td>\n      <td>0</td>\n      <td>0</td>\n      <td>0</td>\n      <td>0</td>\n    </tr>\n  </tbody>\n</table>\n<p>5 rows × 51 columns</p>\n</div>"
     },
     "metadata": {},
     "execution_count": 101
    }
   ],
   "source": [
    "test.head()"
   ]
  },
  {
   "cell_type": "code",
   "execution_count": 102,
   "metadata": {},
   "outputs": [],
   "source": [
    "train['income_total'] = np.log1p(train['income_total']).astype('int')\n",
    "\n",
    "test['income_total'] = np.log1p(test['income_total']).astype('int')"
   ]
  },
  {
   "cell_type": "code",
   "execution_count": 103,
   "metadata": {},
   "outputs": [],
   "source": [
    "from lightgbm import LGBMClassifier"
   ]
  },
  {
   "cell_type": "code",
   "execution_count": 104,
   "metadata": {},
   "outputs": [
    {
     "output_type": "execute_result",
     "data": {
      "text/plain": [
       "((26453, 51), (26453,), (10000, 51))"
      ]
     },
     "metadata": {},
     "execution_count": 104
    }
   ],
   "source": [
    "feature_cols = train.columns.difference(['credit'])\n",
    "x_train = train[feature_cols]\n",
    "y_train = train['credit']\n",
    "x_test = test\n",
    "x_train.shape, y_train.shape, x_test.shape"
   ]
  },
  {
   "cell_type": "code",
   "execution_count": 110,
   "metadata": {},
   "outputs": [
    {
     "output_type": "execute_result",
     "data": {
      "text/plain": [
       "1    9822\n",
       "0     178\n",
       "dtype: int64"
      ]
     },
     "metadata": {},
     "execution_count": 110
    }
   ],
   "source": [
    "lgbm = LGBMClassifier()\n",
    "lgbm.fit(x_train, y_train)\n",
    "y_pred = pd.Series(lgbm.predict(x_test).astype('int'))\n",
    "y_pred.value_counts()\n",
    "# pd.Series(y_pred).value_counts()\n",
    "# sub = pd.concat([sub['index'],y_pred], axis = 1)\n",
    "# sub.to_csv('result.csv', index = False)"
   ]
  },
  {
   "cell_type": "code",
   "execution_count": 111,
   "metadata": {},
   "outputs": [],
   "source": [
    "from sklearn.ensemble import RandomForestClassifier"
   ]
  },
  {
   "cell_type": "code",
   "execution_count": 114,
   "metadata": {},
   "outputs": [
    {
     "output_type": "execute_result",
     "data": {
      "text/plain": [
       "1    9995\n",
       "0       5\n",
       "dtype: int64"
      ]
     },
     "metadata": {},
     "execution_count": 114
    }
   ],
   "source": [
    "rf = RandomForestClassifier().fit(x_train, y_train)\n",
    "y_pred = rf.predict(x_test).astype('int')\n",
    "pd.Series(y_pred).value_counts()"
   ]
  },
  {
   "cell_type": "code",
   "execution_count": 138,
   "metadata": {},
   "outputs": [],
   "source": [
    "sub = pd.concat([sub['index'],pd.get_dummies(y_pred)] , axis = 1)"
   ]
  },
  {
   "cell_type": "code",
   "execution_count": 115,
   "metadata": {},
   "outputs": [
    {
     "output_type": "execute_result",
     "data": {
      "text/plain": [
       "2.0    16964\n",
       "1.0     6267\n",
       "0.0     3222\n",
       "Name: credit, dtype: int64"
      ]
     },
     "metadata": {},
     "execution_count": 115
    }
   ],
   "source": [
    "y_train.value_counts()"
   ]
  },
  {
   "cell_type": "code",
   "execution_count": null,
   "metadata": {},
   "outputs": [],
   "source": []
  }
 ]
}